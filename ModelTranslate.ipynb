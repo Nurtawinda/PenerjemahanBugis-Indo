{
  "metadata": {
    "kernelspec": {
      "display_name": "Python 3",
      "name": "python3"
    },
    "language_info": {
      "pygments_lexer": "ipython3",
      "nbconvert_exporter": "python",
      "version": "3.6.4",
      "file_extension": ".py",
      "codemirror_mode": {
        "name": "ipython",
        "version": 3
      },
      "name": "python",
      "mimetype": "text/x-python"
    },
    "colab": {
      "provenance": []
    }
  },
  "nbformat_minor": 0,
  "nbformat": 4,
  "cells": [
    {
      "cell_type": "code",
      "source": [
        "from google.colab import drive\n",
        "drive.mount('/content/drive')"
      ],
      "metadata": {
        "colab": {
          "base_uri": "https://localhost:8080/"
        },
        "id": "yBIY0K6lBVcb",
        "outputId": "1b30fd4c-c417-4ea6-a4fe-a5e9f8428c14"
      },
      "execution_count": null,
      "outputs": [
        {
          "output_type": "stream",
          "name": "stdout",
          "text": [
            "Mounted at /content/drive\n"
          ]
        }
      ]
    },
    {
      "cell_type": "markdown",
      "source": [
        "## 1. Data Preprocessing<a class=\"anchor\" id=\"1\"></a><a class=\"anchor\" id=\"1\"></a>"
      ],
      "metadata": {
        "id": "EZF2ghXD-WBx"
      }
    },
    {
      "cell_type": "code",
      "source": [
        "import warnings\n",
        "warnings.filterwarnings('ignore')\n",
        "import string\n",
        "import re\n",
        "from unicodedata import normalize\n",
        "import numpy as np\n",
        "from tensorflow.keras.preprocessing.text import Tokenizer\n",
        "from tensorflow.keras.preprocessing.sequence import pad_sequences\n",
        "from keras.utils import to_categorical\n",
        "from tensorflow.keras.models import Sequential,load_model\n",
        "from tensorflow.keras.layers import LSTM,Dense,Embedding,RepeatVector,TimeDistributed\n",
        "from tensorflow.keras.callbacks import EarlyStopping\n",
        "from tensorflow.keras.preprocessing.text import Tokenizer\n",
        "from keras.preprocessing.sequence import pad_sequences\n",
        "from nltk.translate.bleu_score import corpus_bleu\n",
        "import pandas as pd\n",
        "from string import punctuation\n",
        "import matplotlib.pyplot as plt\n",
        "from IPython.display import Markdown, display\n",
        "\n",
        "def printmd(string):\n",
        "    # Print with Markdowns\n",
        "    display(Markdown(string))"
      ],
      "metadata": {
        "execution": {
          "iopub.status.busy": "2021-05-23T05:34:16.385769Z",
          "iopub.execute_input": "2021-05-23T05:34:16.386113Z",
          "iopub.status.idle": "2021-05-23T05:34:23.474269Z",
          "shell.execute_reply.started": "2021-05-23T05:34:16.386033Z",
          "shell.execute_reply": "2021-05-23T05:34:23.47355Z"
        },
        "trusted": true,
        "id": "9KWKJPYi-WBy"
      },
      "execution_count": null,
      "outputs": []
    },
    {
      "cell_type": "code",
      "source": [
        "total_sentences = 2500\n",
        "\n",
        "# Load the dataset\n",
        "dataset = pd.read_csv(\"/content/drive/MyDrive/databaru/50transkrip.csv\", nrows = total_sentences)\n",
        "dataset = dataset.drop(columns=['filename'])\n",
        "\n",
        "# What proportion of the sentences will be used for the test set\n",
        "test_proportion = 0.1\n",
        "train_test_threshold = int( (1-test_proportion) * total_sentences)\n",
        "\n",
        "printmd(f'{total_sentences} kalimat akan diolah (teks aktual beserta terjemahannya)')\n",
        "printmd(f'{train_test_threshold} kalimat akan digunakan untuk melatih model')\n",
        "printmd(f'{total_sentences-train_test_threshold} kalimat akan digunakan untuk pengujian model')"
      ],
      "metadata": {
        "execution": {
          "iopub.status.busy": "2021-05-23T05:34:23.475972Z",
          "iopub.execute_input": "2021-05-23T05:34:23.476353Z",
          "iopub.status.idle": "2021-05-23T05:34:23.526171Z",
          "shell.execute_reply.started": "2021-05-23T05:34:23.476309Z",
          "shell.execute_reply": "2021-05-23T05:34:23.525569Z"
        },
        "trusted": true,
        "id": "EUeMtMVY-WBy",
        "colab": {
          "base_uri": "https://localhost:8080/",
          "height": 93
        },
        "outputId": "b58aafec-0f9f-4199-eda5-db2a0d3b2efb"
      },
      "execution_count": null,
      "outputs": [
        {
          "output_type": "display_data",
          "data": {
            "text/plain": [
              "<IPython.core.display.Markdown object>"
            ],
            "text/markdown": "2500 kalimat akan diolah (teks aktual beserta terjemahannya)"
          },
          "metadata": {}
        },
        {
          "output_type": "display_data",
          "data": {
            "text/plain": [
              "<IPython.core.display.Markdown object>"
            ],
            "text/markdown": "2250 kalimat akan digunakan untuk melatih model"
          },
          "metadata": {}
        },
        {
          "output_type": "display_data",
          "data": {
            "text/plain": [
              "<IPython.core.display.Markdown object>"
            ],
            "text/markdown": "250 kalimat akan digunakan untuk pengujian model"
          },
          "metadata": {}
        }
      ]
    },
    {
      "cell_type": "code",
      "source": [
        "# Shuffle the dataset\n",
        "dataset = dataset.sample(frac=1, random_state=0)\n",
        "dataset.iloc[1000:1010]"
      ],
      "metadata": {
        "execution": {
          "iopub.status.busy": "2021-05-23T05:34:23.528774Z",
          "iopub.execute_input": "2021-05-23T05:34:23.529015Z",
          "iopub.status.idle": "2021-05-23T05:34:23.551979Z",
          "shell.execute_reply.started": "2021-05-23T05:34:23.528991Z",
          "shell.execute_reply": "2021-05-23T05:34:23.551286Z"
        },
        "trusted": true,
        "id": "WfJYcpNQ-WBz",
        "colab": {
          "base_uri": "https://localhost:8080/",
          "height": 363
        },
        "outputId": "a84c8f6d-0a61-4764-fa49-49080b6fb623"
      },
      "execution_count": null,
      "outputs": [
        {
          "output_type": "execute_result",
          "data": {
            "text/plain": [
              "                                    bugis  \\\n",
              "724             aleng ka baki akki dapo'e   \n",
              "1964            pake bawang ni potolo' ku   \n",
              "19            makenni maneng mopa manu'ku   \n",
              "2160  makkukue maega ni pake bedda lotong   \n",
              "468                  engka siaga bola na?   \n",
              "2134           aja muallupai mandre wenni   \n",
              "54                    winda iya' aseng ku   \n",
              "189           egana tu agagang mu ta'tale   \n",
              "505      tennapodo de'to nakenna ki abala   \n",
              "1317                ebbureng ka wae pella   \n",
              "\n",
              "                                              indo  \n",
              "724                    ambilkan saya baki di dapur  \n",
              "1964                           pakai saja pensilku  \n",
              "19                     semua ayam saya masih kecil  \n",
              "2160  sekarang banyak yang menggunakan bedak hitam  \n",
              "468                           ada berapa rumahnya?  \n",
              "2134                       jangan lupa makan malam  \n",
              "54                                 Nama saya Winda  \n",
              "189             banyaknya barangmu yang berserakan  \n",
              "505               semoga kita tidak terkena celaka  \n",
              "1317                      tolong buatkan air panas  "
            ],
            "text/html": [
              "\n",
              "  <div id=\"df-891e90f3-92ff-4a8f-bf70-382043e96b32\" class=\"colab-df-container\">\n",
              "    <div>\n",
              "<style scoped>\n",
              "    .dataframe tbody tr th:only-of-type {\n",
              "        vertical-align: middle;\n",
              "    }\n",
              "\n",
              "    .dataframe tbody tr th {\n",
              "        vertical-align: top;\n",
              "    }\n",
              "\n",
              "    .dataframe thead th {\n",
              "        text-align: right;\n",
              "    }\n",
              "</style>\n",
              "<table border=\"1\" class=\"dataframe\">\n",
              "  <thead>\n",
              "    <tr style=\"text-align: right;\">\n",
              "      <th></th>\n",
              "      <th>bugis</th>\n",
              "      <th>indo</th>\n",
              "    </tr>\n",
              "  </thead>\n",
              "  <tbody>\n",
              "    <tr>\n",
              "      <th>724</th>\n",
              "      <td>aleng ka baki akki dapo'e</td>\n",
              "      <td>ambilkan saya baki di dapur</td>\n",
              "    </tr>\n",
              "    <tr>\n",
              "      <th>1964</th>\n",
              "      <td>pake bawang ni potolo' ku</td>\n",
              "      <td>pakai saja pensilku</td>\n",
              "    </tr>\n",
              "    <tr>\n",
              "      <th>19</th>\n",
              "      <td>makenni maneng mopa manu'ku</td>\n",
              "      <td>semua ayam saya masih kecil</td>\n",
              "    </tr>\n",
              "    <tr>\n",
              "      <th>2160</th>\n",
              "      <td>makkukue maega ni pake bedda lotong</td>\n",
              "      <td>sekarang banyak yang menggunakan bedak hitam</td>\n",
              "    </tr>\n",
              "    <tr>\n",
              "      <th>468</th>\n",
              "      <td>engka siaga bola na?</td>\n",
              "      <td>ada berapa rumahnya?</td>\n",
              "    </tr>\n",
              "    <tr>\n",
              "      <th>2134</th>\n",
              "      <td>aja muallupai mandre wenni</td>\n",
              "      <td>jangan lupa makan malam</td>\n",
              "    </tr>\n",
              "    <tr>\n",
              "      <th>54</th>\n",
              "      <td>winda iya' aseng ku</td>\n",
              "      <td>Nama saya Winda</td>\n",
              "    </tr>\n",
              "    <tr>\n",
              "      <th>189</th>\n",
              "      <td>egana tu agagang mu ta'tale</td>\n",
              "      <td>banyaknya barangmu yang berserakan</td>\n",
              "    </tr>\n",
              "    <tr>\n",
              "      <th>505</th>\n",
              "      <td>tennapodo de'to nakenna ki abala</td>\n",
              "      <td>semoga kita tidak terkena celaka</td>\n",
              "    </tr>\n",
              "    <tr>\n",
              "      <th>1317</th>\n",
              "      <td>ebbureng ka wae pella</td>\n",
              "      <td>tolong buatkan air panas</td>\n",
              "    </tr>\n",
              "  </tbody>\n",
              "</table>\n",
              "</div>\n",
              "    <div class=\"colab-df-buttons\">\n",
              "\n",
              "  <div class=\"colab-df-container\">\n",
              "    <button class=\"colab-df-convert\" onclick=\"convertToInteractive('df-891e90f3-92ff-4a8f-bf70-382043e96b32')\"\n",
              "            title=\"Convert this dataframe to an interactive table.\"\n",
              "            style=\"display:none;\">\n",
              "\n",
              "  <svg xmlns=\"http://www.w3.org/2000/svg\" height=\"24px\" viewBox=\"0 -960 960 960\">\n",
              "    <path d=\"M120-120v-720h720v720H120Zm60-500h600v-160H180v160Zm220 220h160v-160H400v160Zm0 220h160v-160H400v160ZM180-400h160v-160H180v160Zm440 0h160v-160H620v160ZM180-180h160v-160H180v160Zm440 0h160v-160H620v160Z\"/>\n",
              "  </svg>\n",
              "    </button>\n",
              "\n",
              "  <style>\n",
              "    .colab-df-container {\n",
              "      display:flex;\n",
              "      gap: 12px;\n",
              "    }\n",
              "\n",
              "    .colab-df-convert {\n",
              "      background-color: #E8F0FE;\n",
              "      border: none;\n",
              "      border-radius: 50%;\n",
              "      cursor: pointer;\n",
              "      display: none;\n",
              "      fill: #1967D2;\n",
              "      height: 32px;\n",
              "      padding: 0 0 0 0;\n",
              "      width: 32px;\n",
              "    }\n",
              "\n",
              "    .colab-df-convert:hover {\n",
              "      background-color: #E2EBFA;\n",
              "      box-shadow: 0px 1px 2px rgba(60, 64, 67, 0.3), 0px 1px 3px 1px rgba(60, 64, 67, 0.15);\n",
              "      fill: #174EA6;\n",
              "    }\n",
              "\n",
              "    .colab-df-buttons div {\n",
              "      margin-bottom: 4px;\n",
              "    }\n",
              "\n",
              "    [theme=dark] .colab-df-convert {\n",
              "      background-color: #3B4455;\n",
              "      fill: #D2E3FC;\n",
              "    }\n",
              "\n",
              "    [theme=dark] .colab-df-convert:hover {\n",
              "      background-color: #434B5C;\n",
              "      box-shadow: 0px 1px 3px 1px rgba(0, 0, 0, 0.15);\n",
              "      filter: drop-shadow(0px 1px 2px rgba(0, 0, 0, 0.3));\n",
              "      fill: #FFFFFF;\n",
              "    }\n",
              "  </style>\n",
              "\n",
              "    <script>\n",
              "      const buttonEl =\n",
              "        document.querySelector('#df-891e90f3-92ff-4a8f-bf70-382043e96b32 button.colab-df-convert');\n",
              "      buttonEl.style.display =\n",
              "        google.colab.kernel.accessAllowed ? 'block' : 'none';\n",
              "\n",
              "      async function convertToInteractive(key) {\n",
              "        const element = document.querySelector('#df-891e90f3-92ff-4a8f-bf70-382043e96b32');\n",
              "        const dataTable =\n",
              "          await google.colab.kernel.invokeFunction('convertToInteractive',\n",
              "                                                    [key], {});\n",
              "        if (!dataTable) return;\n",
              "\n",
              "        const docLinkHtml = 'Like what you see? Visit the ' +\n",
              "          '<a target=\"_blank\" href=https://colab.research.google.com/notebooks/data_table.ipynb>data table notebook</a>'\n",
              "          + ' to learn more about interactive tables.';\n",
              "        element.innerHTML = '';\n",
              "        dataTable['output_type'] = 'display_data';\n",
              "        await google.colab.output.renderOutput(dataTable, element);\n",
              "        const docLink = document.createElement('div');\n",
              "        docLink.innerHTML = docLinkHtml;\n",
              "        element.appendChild(docLink);\n",
              "      }\n",
              "    </script>\n",
              "  </div>\n",
              "\n",
              "\n",
              "    <div id=\"df-354df969-276a-4dc6-aa00-7115a082be0f\">\n",
              "      <button class=\"colab-df-quickchart\" onclick=\"quickchart('df-354df969-276a-4dc6-aa00-7115a082be0f')\"\n",
              "                title=\"Suggest charts\"\n",
              "                style=\"display:none;\">\n",
              "\n",
              "<svg xmlns=\"http://www.w3.org/2000/svg\" height=\"24px\"viewBox=\"0 0 24 24\"\n",
              "     width=\"24px\">\n",
              "    <g>\n",
              "        <path d=\"M19 3H5c-1.1 0-2 .9-2 2v14c0 1.1.9 2 2 2h14c1.1 0 2-.9 2-2V5c0-1.1-.9-2-2-2zM9 17H7v-7h2v7zm4 0h-2V7h2v10zm4 0h-2v-4h2v4z\"/>\n",
              "    </g>\n",
              "</svg>\n",
              "      </button>\n",
              "\n",
              "<style>\n",
              "  .colab-df-quickchart {\n",
              "      --bg-color: #E8F0FE;\n",
              "      --fill-color: #1967D2;\n",
              "      --hover-bg-color: #E2EBFA;\n",
              "      --hover-fill-color: #174EA6;\n",
              "      --disabled-fill-color: #AAA;\n",
              "      --disabled-bg-color: #DDD;\n",
              "  }\n",
              "\n",
              "  [theme=dark] .colab-df-quickchart {\n",
              "      --bg-color: #3B4455;\n",
              "      --fill-color: #D2E3FC;\n",
              "      --hover-bg-color: #434B5C;\n",
              "      --hover-fill-color: #FFFFFF;\n",
              "      --disabled-bg-color: #3B4455;\n",
              "      --disabled-fill-color: #666;\n",
              "  }\n",
              "\n",
              "  .colab-df-quickchart {\n",
              "    background-color: var(--bg-color);\n",
              "    border: none;\n",
              "    border-radius: 50%;\n",
              "    cursor: pointer;\n",
              "    display: none;\n",
              "    fill: var(--fill-color);\n",
              "    height: 32px;\n",
              "    padding: 0;\n",
              "    width: 32px;\n",
              "  }\n",
              "\n",
              "  .colab-df-quickchart:hover {\n",
              "    background-color: var(--hover-bg-color);\n",
              "    box-shadow: 0 1px 2px rgba(60, 64, 67, 0.3), 0 1px 3px 1px rgba(60, 64, 67, 0.15);\n",
              "    fill: var(--button-hover-fill-color);\n",
              "  }\n",
              "\n",
              "  .colab-df-quickchart-complete:disabled,\n",
              "  .colab-df-quickchart-complete:disabled:hover {\n",
              "    background-color: var(--disabled-bg-color);\n",
              "    fill: var(--disabled-fill-color);\n",
              "    box-shadow: none;\n",
              "  }\n",
              "\n",
              "  .colab-df-spinner {\n",
              "    border: 2px solid var(--fill-color);\n",
              "    border-color: transparent;\n",
              "    border-bottom-color: var(--fill-color);\n",
              "    animation:\n",
              "      spin 1s steps(1) infinite;\n",
              "  }\n",
              "\n",
              "  @keyframes spin {\n",
              "    0% {\n",
              "      border-color: transparent;\n",
              "      border-bottom-color: var(--fill-color);\n",
              "      border-left-color: var(--fill-color);\n",
              "    }\n",
              "    20% {\n",
              "      border-color: transparent;\n",
              "      border-left-color: var(--fill-color);\n",
              "      border-top-color: var(--fill-color);\n",
              "    }\n",
              "    30% {\n",
              "      border-color: transparent;\n",
              "      border-left-color: var(--fill-color);\n",
              "      border-top-color: var(--fill-color);\n",
              "      border-right-color: var(--fill-color);\n",
              "    }\n",
              "    40% {\n",
              "      border-color: transparent;\n",
              "      border-right-color: var(--fill-color);\n",
              "      border-top-color: var(--fill-color);\n",
              "    }\n",
              "    60% {\n",
              "      border-color: transparent;\n",
              "      border-right-color: var(--fill-color);\n",
              "    }\n",
              "    80% {\n",
              "      border-color: transparent;\n",
              "      border-right-color: var(--fill-color);\n",
              "      border-bottom-color: var(--fill-color);\n",
              "    }\n",
              "    90% {\n",
              "      border-color: transparent;\n",
              "      border-bottom-color: var(--fill-color);\n",
              "    }\n",
              "  }\n",
              "</style>\n",
              "\n",
              "      <script>\n",
              "        async function quickchart(key) {\n",
              "          const quickchartButtonEl =\n",
              "            document.querySelector('#' + key + ' button');\n",
              "          quickchartButtonEl.disabled = true;  // To prevent multiple clicks.\n",
              "          quickchartButtonEl.classList.add('colab-df-spinner');\n",
              "          try {\n",
              "            const charts = await google.colab.kernel.invokeFunction(\n",
              "                'suggestCharts', [key], {});\n",
              "          } catch (error) {\n",
              "            console.error('Error during call to suggestCharts:', error);\n",
              "          }\n",
              "          quickchartButtonEl.classList.remove('colab-df-spinner');\n",
              "          quickchartButtonEl.classList.add('colab-df-quickchart-complete');\n",
              "        }\n",
              "        (() => {\n",
              "          let quickchartButtonEl =\n",
              "            document.querySelector('#df-354df969-276a-4dc6-aa00-7115a082be0f button');\n",
              "          quickchartButtonEl.style.display =\n",
              "            google.colab.kernel.accessAllowed ? 'block' : 'none';\n",
              "        })();\n",
              "      </script>\n",
              "    </div>\n",
              "\n",
              "    </div>\n",
              "  </div>\n"
            ],
            "application/vnd.google.colaboratory.intrinsic+json": {
              "type": "dataframe",
              "summary": "{\n  \"name\": \"dataset\",\n  \"rows\": 10,\n  \"fields\": [\n    {\n      \"column\": \"bugis\",\n      \"properties\": {\n        \"dtype\": \"string\",\n        \"num_unique_values\": 10,\n        \"samples\": [\n          \"tennapodo de'to nakenna ki abala\",\n          \"pake bawang ni potolo' ku\",\n          \"aja muallupai mandre wenni\"\n        ],\n        \"semantic_type\": \"\",\n        \"description\": \"\"\n      }\n    },\n    {\n      \"column\": \"indo\",\n      \"properties\": {\n        \"dtype\": \"string\",\n        \"num_unique_values\": 10,\n        \"samples\": [\n          \"semoga kita tidak terkena celaka\",\n          \"pakai saja pensilku\",\n          \"jangan lupa makan malam\"\n        ],\n        \"semantic_type\": \"\",\n        \"description\": \"\"\n      }\n    }\n  ]\n}"
            }
          },
          "metadata": {},
          "execution_count": 4
        }
      ]
    },
    {
      "cell_type": "code",
      "source": [
        "def clean(string):\n",
        "    # Clean the string\n",
        "    # Ensure the input is a string before applying string methods\n",
        "    string = str(string)\n",
        "    string = string.replace(\"\\u202f\",\" \") # Replace no-break space with space\n",
        "    string = string.lower()\n",
        "\n",
        "    # Delete the punctuation and the numbers\n",
        "    for p in punctuation + \"«»\" + \"012345670123456789\":\n",
        "        string = string.replace(p,\" \")\n",
        "\n",
        "    string = re.sub('\\s+',' ', string)\n",
        "    string = string.strip()\n",
        "\n",
        "    return string\n",
        "\n",
        "# Clean the sentences\n",
        "# Convert columns to string type, filling potential NaN values with empty strings\n",
        "dataset[\"bugis\"] = dataset[\"bugis\"].astype(str).apply(lambda x: clean(x))\n",
        "dataset[\"indo\"] = dataset[\"indo\"].astype(str).apply(lambda x: clean(x))\n",
        "\n",
        "# Select one part of the dataset\n",
        "dataset = dataset.values\n",
        "dataset = dataset[:total_sentences]\n",
        "\n",
        "# split into train/test\n",
        "train, test = dataset[:train_test_threshold], dataset[train_test_threshold:]\n",
        "\n",
        "# Define the name of the source and of the target\n",
        "# This will be used in the outputs of this notebook\n",
        "source_str, target_str = \"Bugis\", \"Indonesia\"\n",
        "\n",
        "# The index in the numpy array of the source and of the target\n",
        "idx_src, idx_tar = 0, 1"
      ],
      "metadata": {
        "execution": {
          "iopub.status.busy": "2021-05-23T05:34:23.553464Z",
          "iopub.execute_input": "2021-05-23T05:34:23.553822Z",
          "iopub.status.idle": "2021-05-23T05:34:23.757005Z",
          "shell.execute_reply.started": "2021-05-23T05:34:23.553789Z",
          "shell.execute_reply": "2021-05-23T05:34:23.756126Z"
        },
        "trusted": true,
        "id": "4vNLtbWq-WBz"
      },
      "execution_count": null,
      "outputs": []
    },
    {
      "cell_type": "code",
      "source": [
        "# Display the result after cleaning\n",
        "pd.DataFrame(dataset[1000:1010])"
      ],
      "metadata": {
        "execution": {
          "iopub.status.busy": "2021-05-23T05:34:23.759801Z",
          "iopub.execute_input": "2021-05-23T05:34:23.760141Z",
          "iopub.status.idle": "2021-05-23T05:34:23.769224Z",
          "shell.execute_reply.started": "2021-05-23T05:34:23.760106Z",
          "shell.execute_reply": "2021-05-23T05:34:23.768343Z"
        },
        "trusted": true,
        "id": "W_vo2Kty-WB0",
        "colab": {
          "base_uri": "https://localhost:8080/",
          "height": 363
        },
        "outputId": "8e587f1d-0132-4327-ed1e-d7b0faed28da"
      },
      "execution_count": null,
      "outputs": [
        {
          "output_type": "execute_result",
          "data": {
            "text/plain": [
              "                                     0  \\\n",
              "0            aleng ka baki akki dapo e   \n",
              "1             pake bawang ni potolo ku   \n",
              "2          makenni maneng mopa manu ku   \n",
              "3  makkukue maega ni pake bedda lotong   \n",
              "4                  engka siaga bola na   \n",
              "5           aja muallupai mandre wenni   \n",
              "6                   winda iya aseng ku   \n",
              "7          egana tu agagang mu ta tale   \n",
              "8     tennapodo de to nakenna ki abala   \n",
              "9                ebbureng ka wae pella   \n",
              "\n",
              "                                              1  \n",
              "0                   ambilkan saya baki di dapur  \n",
              "1                           pakai saja pensilku  \n",
              "2                   semua ayam saya masih kecil  \n",
              "3  sekarang banyak yang menggunakan bedak hitam  \n",
              "4                           ada berapa rumahnya  \n",
              "5                       jangan lupa makan malam  \n",
              "6                               nama saya winda  \n",
              "7            banyaknya barangmu yang berserakan  \n",
              "8              semoga kita tidak terkena celaka  \n",
              "9                      tolong buatkan air panas  "
            ],
            "text/html": [
              "\n",
              "  <div id=\"df-f4a034df-3f87-4140-bfd8-672abc7a8a03\" class=\"colab-df-container\">\n",
              "    <div>\n",
              "<style scoped>\n",
              "    .dataframe tbody tr th:only-of-type {\n",
              "        vertical-align: middle;\n",
              "    }\n",
              "\n",
              "    .dataframe tbody tr th {\n",
              "        vertical-align: top;\n",
              "    }\n",
              "\n",
              "    .dataframe thead th {\n",
              "        text-align: right;\n",
              "    }\n",
              "</style>\n",
              "<table border=\"1\" class=\"dataframe\">\n",
              "  <thead>\n",
              "    <tr style=\"text-align: right;\">\n",
              "      <th></th>\n",
              "      <th>0</th>\n",
              "      <th>1</th>\n",
              "    </tr>\n",
              "  </thead>\n",
              "  <tbody>\n",
              "    <tr>\n",
              "      <th>0</th>\n",
              "      <td>aleng ka baki akki dapo e</td>\n",
              "      <td>ambilkan saya baki di dapur</td>\n",
              "    </tr>\n",
              "    <tr>\n",
              "      <th>1</th>\n",
              "      <td>pake bawang ni potolo ku</td>\n",
              "      <td>pakai saja pensilku</td>\n",
              "    </tr>\n",
              "    <tr>\n",
              "      <th>2</th>\n",
              "      <td>makenni maneng mopa manu ku</td>\n",
              "      <td>semua ayam saya masih kecil</td>\n",
              "    </tr>\n",
              "    <tr>\n",
              "      <th>3</th>\n",
              "      <td>makkukue maega ni pake bedda lotong</td>\n",
              "      <td>sekarang banyak yang menggunakan bedak hitam</td>\n",
              "    </tr>\n",
              "    <tr>\n",
              "      <th>4</th>\n",
              "      <td>engka siaga bola na</td>\n",
              "      <td>ada berapa rumahnya</td>\n",
              "    </tr>\n",
              "    <tr>\n",
              "      <th>5</th>\n",
              "      <td>aja muallupai mandre wenni</td>\n",
              "      <td>jangan lupa makan malam</td>\n",
              "    </tr>\n",
              "    <tr>\n",
              "      <th>6</th>\n",
              "      <td>winda iya aseng ku</td>\n",
              "      <td>nama saya winda</td>\n",
              "    </tr>\n",
              "    <tr>\n",
              "      <th>7</th>\n",
              "      <td>egana tu agagang mu ta tale</td>\n",
              "      <td>banyaknya barangmu yang berserakan</td>\n",
              "    </tr>\n",
              "    <tr>\n",
              "      <th>8</th>\n",
              "      <td>tennapodo de to nakenna ki abala</td>\n",
              "      <td>semoga kita tidak terkena celaka</td>\n",
              "    </tr>\n",
              "    <tr>\n",
              "      <th>9</th>\n",
              "      <td>ebbureng ka wae pella</td>\n",
              "      <td>tolong buatkan air panas</td>\n",
              "    </tr>\n",
              "  </tbody>\n",
              "</table>\n",
              "</div>\n",
              "    <div class=\"colab-df-buttons\">\n",
              "\n",
              "  <div class=\"colab-df-container\">\n",
              "    <button class=\"colab-df-convert\" onclick=\"convertToInteractive('df-f4a034df-3f87-4140-bfd8-672abc7a8a03')\"\n",
              "            title=\"Convert this dataframe to an interactive table.\"\n",
              "            style=\"display:none;\">\n",
              "\n",
              "  <svg xmlns=\"http://www.w3.org/2000/svg\" height=\"24px\" viewBox=\"0 -960 960 960\">\n",
              "    <path d=\"M120-120v-720h720v720H120Zm60-500h600v-160H180v160Zm220 220h160v-160H400v160Zm0 220h160v-160H400v160ZM180-400h160v-160H180v160Zm440 0h160v-160H620v160ZM180-180h160v-160H180v160Zm440 0h160v-160H620v160Z\"/>\n",
              "  </svg>\n",
              "    </button>\n",
              "\n",
              "  <style>\n",
              "    .colab-df-container {\n",
              "      display:flex;\n",
              "      gap: 12px;\n",
              "    }\n",
              "\n",
              "    .colab-df-convert {\n",
              "      background-color: #E8F0FE;\n",
              "      border: none;\n",
              "      border-radius: 50%;\n",
              "      cursor: pointer;\n",
              "      display: none;\n",
              "      fill: #1967D2;\n",
              "      height: 32px;\n",
              "      padding: 0 0 0 0;\n",
              "      width: 32px;\n",
              "    }\n",
              "\n",
              "    .colab-df-convert:hover {\n",
              "      background-color: #E2EBFA;\n",
              "      box-shadow: 0px 1px 2px rgba(60, 64, 67, 0.3), 0px 1px 3px 1px rgba(60, 64, 67, 0.15);\n",
              "      fill: #174EA6;\n",
              "    }\n",
              "\n",
              "    .colab-df-buttons div {\n",
              "      margin-bottom: 4px;\n",
              "    }\n",
              "\n",
              "    [theme=dark] .colab-df-convert {\n",
              "      background-color: #3B4455;\n",
              "      fill: #D2E3FC;\n",
              "    }\n",
              "\n",
              "    [theme=dark] .colab-df-convert:hover {\n",
              "      background-color: #434B5C;\n",
              "      box-shadow: 0px 1px 3px 1px rgba(0, 0, 0, 0.15);\n",
              "      filter: drop-shadow(0px 1px 2px rgba(0, 0, 0, 0.3));\n",
              "      fill: #FFFFFF;\n",
              "    }\n",
              "  </style>\n",
              "\n",
              "    <script>\n",
              "      const buttonEl =\n",
              "        document.querySelector('#df-f4a034df-3f87-4140-bfd8-672abc7a8a03 button.colab-df-convert');\n",
              "      buttonEl.style.display =\n",
              "        google.colab.kernel.accessAllowed ? 'block' : 'none';\n",
              "\n",
              "      async function convertToInteractive(key) {\n",
              "        const element = document.querySelector('#df-f4a034df-3f87-4140-bfd8-672abc7a8a03');\n",
              "        const dataTable =\n",
              "          await google.colab.kernel.invokeFunction('convertToInteractive',\n",
              "                                                    [key], {});\n",
              "        if (!dataTable) return;\n",
              "\n",
              "        const docLinkHtml = 'Like what you see? Visit the ' +\n",
              "          '<a target=\"_blank\" href=https://colab.research.google.com/notebooks/data_table.ipynb>data table notebook</a>'\n",
              "          + ' to learn more about interactive tables.';\n",
              "        element.innerHTML = '';\n",
              "        dataTable['output_type'] = 'display_data';\n",
              "        await google.colab.output.renderOutput(dataTable, element);\n",
              "        const docLink = document.createElement('div');\n",
              "        docLink.innerHTML = docLinkHtml;\n",
              "        element.appendChild(docLink);\n",
              "      }\n",
              "    </script>\n",
              "  </div>\n",
              "\n",
              "\n",
              "    <div id=\"df-9850fb4e-b592-406f-9f18-27bd24e59039\">\n",
              "      <button class=\"colab-df-quickchart\" onclick=\"quickchart('df-9850fb4e-b592-406f-9f18-27bd24e59039')\"\n",
              "                title=\"Suggest charts\"\n",
              "                style=\"display:none;\">\n",
              "\n",
              "<svg xmlns=\"http://www.w3.org/2000/svg\" height=\"24px\"viewBox=\"0 0 24 24\"\n",
              "     width=\"24px\">\n",
              "    <g>\n",
              "        <path d=\"M19 3H5c-1.1 0-2 .9-2 2v14c0 1.1.9 2 2 2h14c1.1 0 2-.9 2-2V5c0-1.1-.9-2-2-2zM9 17H7v-7h2v7zm4 0h-2V7h2v10zm4 0h-2v-4h2v4z\"/>\n",
              "    </g>\n",
              "</svg>\n",
              "      </button>\n",
              "\n",
              "<style>\n",
              "  .colab-df-quickchart {\n",
              "      --bg-color: #E8F0FE;\n",
              "      --fill-color: #1967D2;\n",
              "      --hover-bg-color: #E2EBFA;\n",
              "      --hover-fill-color: #174EA6;\n",
              "      --disabled-fill-color: #AAA;\n",
              "      --disabled-bg-color: #DDD;\n",
              "  }\n",
              "\n",
              "  [theme=dark] .colab-df-quickchart {\n",
              "      --bg-color: #3B4455;\n",
              "      --fill-color: #D2E3FC;\n",
              "      --hover-bg-color: #434B5C;\n",
              "      --hover-fill-color: #FFFFFF;\n",
              "      --disabled-bg-color: #3B4455;\n",
              "      --disabled-fill-color: #666;\n",
              "  }\n",
              "\n",
              "  .colab-df-quickchart {\n",
              "    background-color: var(--bg-color);\n",
              "    border: none;\n",
              "    border-radius: 50%;\n",
              "    cursor: pointer;\n",
              "    display: none;\n",
              "    fill: var(--fill-color);\n",
              "    height: 32px;\n",
              "    padding: 0;\n",
              "    width: 32px;\n",
              "  }\n",
              "\n",
              "  .colab-df-quickchart:hover {\n",
              "    background-color: var(--hover-bg-color);\n",
              "    box-shadow: 0 1px 2px rgba(60, 64, 67, 0.3), 0 1px 3px 1px rgba(60, 64, 67, 0.15);\n",
              "    fill: var(--button-hover-fill-color);\n",
              "  }\n",
              "\n",
              "  .colab-df-quickchart-complete:disabled,\n",
              "  .colab-df-quickchart-complete:disabled:hover {\n",
              "    background-color: var(--disabled-bg-color);\n",
              "    fill: var(--disabled-fill-color);\n",
              "    box-shadow: none;\n",
              "  }\n",
              "\n",
              "  .colab-df-spinner {\n",
              "    border: 2px solid var(--fill-color);\n",
              "    border-color: transparent;\n",
              "    border-bottom-color: var(--fill-color);\n",
              "    animation:\n",
              "      spin 1s steps(1) infinite;\n",
              "  }\n",
              "\n",
              "  @keyframes spin {\n",
              "    0% {\n",
              "      border-color: transparent;\n",
              "      border-bottom-color: var(--fill-color);\n",
              "      border-left-color: var(--fill-color);\n",
              "    }\n",
              "    20% {\n",
              "      border-color: transparent;\n",
              "      border-left-color: var(--fill-color);\n",
              "      border-top-color: var(--fill-color);\n",
              "    }\n",
              "    30% {\n",
              "      border-color: transparent;\n",
              "      border-left-color: var(--fill-color);\n",
              "      border-top-color: var(--fill-color);\n",
              "      border-right-color: var(--fill-color);\n",
              "    }\n",
              "    40% {\n",
              "      border-color: transparent;\n",
              "      border-right-color: var(--fill-color);\n",
              "      border-top-color: var(--fill-color);\n",
              "    }\n",
              "    60% {\n",
              "      border-color: transparent;\n",
              "      border-right-color: var(--fill-color);\n",
              "    }\n",
              "    80% {\n",
              "      border-color: transparent;\n",
              "      border-right-color: var(--fill-color);\n",
              "      border-bottom-color: var(--fill-color);\n",
              "    }\n",
              "    90% {\n",
              "      border-color: transparent;\n",
              "      border-bottom-color: var(--fill-color);\n",
              "    }\n",
              "  }\n",
              "</style>\n",
              "\n",
              "      <script>\n",
              "        async function quickchart(key) {\n",
              "          const quickchartButtonEl =\n",
              "            document.querySelector('#' + key + ' button');\n",
              "          quickchartButtonEl.disabled = true;  // To prevent multiple clicks.\n",
              "          quickchartButtonEl.classList.add('colab-df-spinner');\n",
              "          try {\n",
              "            const charts = await google.colab.kernel.invokeFunction(\n",
              "                'suggestCharts', [key], {});\n",
              "          } catch (error) {\n",
              "            console.error('Error during call to suggestCharts:', error);\n",
              "          }\n",
              "          quickchartButtonEl.classList.remove('colab-df-spinner');\n",
              "          quickchartButtonEl.classList.add('colab-df-quickchart-complete');\n",
              "        }\n",
              "        (() => {\n",
              "          let quickchartButtonEl =\n",
              "            document.querySelector('#df-9850fb4e-b592-406f-9f18-27bd24e59039 button');\n",
              "          quickchartButtonEl.style.display =\n",
              "            google.colab.kernel.accessAllowed ? 'block' : 'none';\n",
              "        })();\n",
              "      </script>\n",
              "    </div>\n",
              "\n",
              "    </div>\n",
              "  </div>\n"
            ],
            "application/vnd.google.colaboratory.intrinsic+json": {
              "type": "dataframe",
              "summary": "{\n  \"name\": \"pd\",\n  \"rows\": 10,\n  \"fields\": [\n    {\n      \"column\": 0,\n      \"properties\": {\n        \"dtype\": \"string\",\n        \"num_unique_values\": 10,\n        \"samples\": [\n          \"tennapodo de to nakenna ki abala\",\n          \"pake bawang ni potolo ku\",\n          \"aja muallupai mandre wenni\"\n        ],\n        \"semantic_type\": \"\",\n        \"description\": \"\"\n      }\n    },\n    {\n      \"column\": 1,\n      \"properties\": {\n        \"dtype\": \"string\",\n        \"num_unique_values\": 10,\n        \"samples\": [\n          \"semoga kita tidak terkena celaka\",\n          \"pakai saja pensilku\",\n          \"jangan lupa makan malam\"\n        ],\n        \"semantic_type\": \"\",\n        \"description\": \"\"\n      }\n    }\n  ]\n}"
            }
          },
          "metadata": {},
          "execution_count": 6
        }
      ]
    },
    {
      "cell_type": "code",
      "source": [
        "def create_tokenizer(lines):\n",
        "    # fit a tokenizer\n",
        "    tokenizer = Tokenizer()\n",
        "    tokenizer.fit_on_texts(lines)\n",
        "    return tokenizer\n",
        "\n",
        "def max_len(lines):\n",
        "    # max sentence length\n",
        "    return max(len(line.split()) for line in lines)\n",
        "\n",
        "def encode_sequences(tokenizer, length, lines):\n",
        "    # encode and pad sequences\n",
        "    X = tokenizer.texts_to_sequences(lines) # integer encode sequences\n",
        "    X = pad_sequences(X, maxlen=length, padding='post') # pad sequences with 0 values\n",
        "    return X\n",
        "\n",
        "def encode_output(sequences, vocab_size):\n",
        "    # one hot encode target sequence\n",
        "    ylist = list()\n",
        "    for sequence in sequences:\n",
        "        encoded = to_categorical(sequence, num_classes=vocab_size)\n",
        "        ylist.append(encoded)\n",
        "    y = np.array(ylist)\n",
        "    y = y.reshape(sequences.shape[0], sequences.shape[1], vocab_size)\n",
        "    return y\n",
        "\n",
        "# Prepare target tokenizer\n",
        "tar_tokenizer = create_tokenizer(dataset[:, idx_tar])\n",
        "tar_vocab_size = len(tar_tokenizer.word_index) + 1\n",
        "tar_length = max_len(dataset[:, idx_tar])\n",
        "printmd(f'\\nTarget ({target_str}) Vocabulary Size: {tar_vocab_size}')\n",
        "printmd(f'Target ({target_str}) Max Length: {tar_length}')\n",
        "\n",
        "# Prepare source tokenizer\n",
        "src_tokenizer = create_tokenizer(dataset[:, idx_src])\n",
        "src_vocab_size = len(src_tokenizer.word_index) + 1\n",
        "src_length = max_len(dataset[:, idx_src])\n",
        "printmd(f'\\nSumber ({source_str}) Vocabulary Size: {src_vocab_size}')\n",
        "printmd(f'Sumber ({source_str}) Max Length: {src_length}\\n')\n",
        "\n",
        "# Prepare training data\n",
        "trainX = encode_sequences(src_tokenizer, src_length, train[:, idx_src])\n",
        "trainY = encode_sequences(tar_tokenizer, tar_length, train[:, idx_tar])\n",
        "trainY = encode_output(trainY, tar_vocab_size)\n",
        "\n",
        "# Prepare test data\n",
        "testX = encode_sequences(src_tokenizer, src_length, test[:, idx_src])\n",
        "testY = encode_sequences(tar_tokenizer, tar_length, test[:, idx_tar])\n",
        "testY = encode_output(testY, tar_vocab_size)"
      ],
      "metadata": {
        "execution": {
          "iopub.status.busy": "2021-05-23T05:34:23.770905Z",
          "iopub.execute_input": "2021-05-23T05:34:23.771417Z",
          "iopub.status.idle": "2021-05-23T05:34:24.710469Z",
          "shell.execute_reply.started": "2021-05-23T05:34:23.77138Z",
          "shell.execute_reply": "2021-05-23T05:34:24.709697Z"
        },
        "trusted": true,
        "id": "tzKsjDpH-WB0",
        "colab": {
          "base_uri": "https://localhost:8080/",
          "height": 116
        },
        "outputId": "28f30657-e75a-4887-f5f1-6aabe536045f"
      },
      "execution_count": null,
      "outputs": [
        {
          "output_type": "display_data",
          "data": {
            "text/plain": [
              "<IPython.core.display.Markdown object>"
            ],
            "text/markdown": "\nTarget (Indonesia) Vocabulary Size: 158"
          },
          "metadata": {}
        },
        {
          "output_type": "display_data",
          "data": {
            "text/plain": [
              "<IPython.core.display.Markdown object>"
            ],
            "text/markdown": "Target (Indonesia) Max Length: 7"
          },
          "metadata": {}
        },
        {
          "output_type": "display_data",
          "data": {
            "text/plain": [
              "<IPython.core.display.Markdown object>"
            ],
            "text/markdown": "\nSumber (Bugis) Vocabulary Size: 153"
          },
          "metadata": {}
        },
        {
          "output_type": "display_data",
          "data": {
            "text/plain": [
              "<IPython.core.display.Markdown object>"
            ],
            "text/markdown": "Sumber (Bugis) Max Length: 7\n"
          },
          "metadata": {}
        }
      ]
    },
    {
      "cell_type": "markdown",
      "source": [
        "# 2. Create and train the model<a class=\"anchor\" id=\"2\"></a>"
      ],
      "metadata": {
        "id": "qxb56yaZ-WB1"
      }
    },
    {
      "cell_type": "code",
      "source": [
        "def create_model(src_vocab, tar_vocab, src_timesteps, tar_timesteps, n_units):\n",
        "    # Create the model\n",
        "    model = Sequential()\n",
        "    model.add(Embedding(src_vocab, n_units, input_length=src_timesteps, mask_zero=True))\n",
        "    model.add(LSTM(n_units))\n",
        "    model.add(RepeatVector(tar_timesteps))\n",
        "    model.add(LSTM(n_units, return_sequences=True))\n",
        "    model.add(TimeDistributed(Dense(tar_vocab, activation='softmax')))\n",
        "    return model\n",
        "\n",
        "# Create model\n",
        "model = create_model(src_vocab_size, tar_vocab_size, src_length, tar_length, 256)\n",
        "model.compile(optimizer='adam', loss='categorical_crossentropy', metrics=['accuracy'])\n",
        "\n"
      ],
      "metadata": {
        "_kg_hide-output": true,
        "execution": {
          "iopub.status.busy": "2021-05-23T05:34:24.712075Z",
          "iopub.execute_input": "2021-05-23T05:34:24.712425Z",
          "iopub.status.idle": "2021-05-23T05:36:27.385819Z",
          "shell.execute_reply.started": "2021-05-23T05:34:24.712386Z",
          "shell.execute_reply": "2021-05-23T05:36:27.385068Z"
        },
        "trusted": true,
        "id": "lIqiVL---WB2"
      },
      "execution_count": null,
      "outputs": []
    },
    {
      "cell_type": "code",
      "source": [
        "model.summary()"
      ],
      "metadata": {
        "colab": {
          "base_uri": "https://localhost:8080/",
          "height": 302
        },
        "id": "s568R3vRG7fG",
        "outputId": "0562d30e-fc4a-4afb-f491-753275271bae"
      },
      "execution_count": null,
      "outputs": [
        {
          "output_type": "display_data",
          "data": {
            "text/plain": [
              "\u001b[1mModel: \"sequential\"\u001b[0m\n"
            ],
            "text/html": [
              "<pre style=\"white-space:pre;overflow-x:auto;line-height:normal;font-family:Menlo,'DejaVu Sans Mono',consolas,'Courier New',monospace\"><span style=\"font-weight: bold\">Model: \"sequential\"</span>\n",
              "</pre>\n"
            ]
          },
          "metadata": {}
        },
        {
          "output_type": "display_data",
          "data": {
            "text/plain": [
              "┏━━━━━━━━━━━━━━━━━━━━━━━━━━━━━━━━━┳━━━━━━━━━━━━━━━━━━━━━━━━┳━━━━━━━━━━━━━━━┓\n",
              "┃\u001b[1m \u001b[0m\u001b[1mLayer (type)                   \u001b[0m\u001b[1m \u001b[0m┃\u001b[1m \u001b[0m\u001b[1mOutput Shape          \u001b[0m\u001b[1m \u001b[0m┃\u001b[1m \u001b[0m\u001b[1m      Param #\u001b[0m\u001b[1m \u001b[0m┃\n",
              "┡━━━━━━━━━━━━━━━━━━━━━━━━━━━━━━━━━╇━━━━━━━━━━━━━━━━━━━━━━━━╇━━━━━━━━━━━━━━━┩\n",
              "│ embedding (\u001b[38;5;33mEmbedding\u001b[0m)           │ ?                      │   \u001b[38;5;34m0\u001b[0m (unbuilt) │\n",
              "├─────────────────────────────────┼────────────────────────┼───────────────┤\n",
              "│ lstm (\u001b[38;5;33mLSTM\u001b[0m)                     │ ?                      │   \u001b[38;5;34m0\u001b[0m (unbuilt) │\n",
              "├─────────────────────────────────┼────────────────────────┼───────────────┤\n",
              "│ repeat_vector (\u001b[38;5;33mRepeatVector\u001b[0m)    │ ?                      │   \u001b[38;5;34m0\u001b[0m (unbuilt) │\n",
              "├─────────────────────────────────┼────────────────────────┼───────────────┤\n",
              "│ lstm_1 (\u001b[38;5;33mLSTM\u001b[0m)                   │ ?                      │   \u001b[38;5;34m0\u001b[0m (unbuilt) │\n",
              "├─────────────────────────────────┼────────────────────────┼───────────────┤\n",
              "│ time_distributed                │ ?                      │   \u001b[38;5;34m0\u001b[0m (unbuilt) │\n",
              "│ (\u001b[38;5;33mTimeDistributed\u001b[0m)               │                        │               │\n",
              "└─────────────────────────────────┴────────────────────────┴───────────────┘\n"
            ],
            "text/html": [
              "<pre style=\"white-space:pre;overflow-x:auto;line-height:normal;font-family:Menlo,'DejaVu Sans Mono',consolas,'Courier New',monospace\">┏━━━━━━━━━━━━━━━━━━━━━━━━━━━━━━━━━┳━━━━━━━━━━━━━━━━━━━━━━━━┳━━━━━━━━━━━━━━━┓\n",
              "┃<span style=\"font-weight: bold\"> Layer (type)                    </span>┃<span style=\"font-weight: bold\"> Output Shape           </span>┃<span style=\"font-weight: bold\">       Param # </span>┃\n",
              "┡━━━━━━━━━━━━━━━━━━━━━━━━━━━━━━━━━╇━━━━━━━━━━━━━━━━━━━━━━━━╇━━━━━━━━━━━━━━━┩\n",
              "│ embedding (<span style=\"color: #0087ff; text-decoration-color: #0087ff\">Embedding</span>)           │ ?                      │   <span style=\"color: #00af00; text-decoration-color: #00af00\">0</span> (unbuilt) │\n",
              "├─────────────────────────────────┼────────────────────────┼───────────────┤\n",
              "│ lstm (<span style=\"color: #0087ff; text-decoration-color: #0087ff\">LSTM</span>)                     │ ?                      │   <span style=\"color: #00af00; text-decoration-color: #00af00\">0</span> (unbuilt) │\n",
              "├─────────────────────────────────┼────────────────────────┼───────────────┤\n",
              "│ repeat_vector (<span style=\"color: #0087ff; text-decoration-color: #0087ff\">RepeatVector</span>)    │ ?                      │   <span style=\"color: #00af00; text-decoration-color: #00af00\">0</span> (unbuilt) │\n",
              "├─────────────────────────────────┼────────────────────────┼───────────────┤\n",
              "│ lstm_1 (<span style=\"color: #0087ff; text-decoration-color: #0087ff\">LSTM</span>)                   │ ?                      │   <span style=\"color: #00af00; text-decoration-color: #00af00\">0</span> (unbuilt) │\n",
              "├─────────────────────────────────┼────────────────────────┼───────────────┤\n",
              "│ time_distributed                │ ?                      │   <span style=\"color: #00af00; text-decoration-color: #00af00\">0</span> (unbuilt) │\n",
              "│ (<span style=\"color: #0087ff; text-decoration-color: #0087ff\">TimeDistributed</span>)               │                        │               │\n",
              "└─────────────────────────────────┴────────────────────────┴───────────────┘\n",
              "</pre>\n"
            ]
          },
          "metadata": {}
        },
        {
          "output_type": "display_data",
          "data": {
            "text/plain": [
              "\u001b[1m Total params: \u001b[0m\u001b[38;5;34m0\u001b[0m (0.00 B)\n"
            ],
            "text/html": [
              "<pre style=\"white-space:pre;overflow-x:auto;line-height:normal;font-family:Menlo,'DejaVu Sans Mono',consolas,'Courier New',monospace\"><span style=\"font-weight: bold\"> Total params: </span><span style=\"color: #00af00; text-decoration-color: #00af00\">0</span> (0.00 B)\n",
              "</pre>\n"
            ]
          },
          "metadata": {}
        },
        {
          "output_type": "display_data",
          "data": {
            "text/plain": [
              "\u001b[1m Trainable params: \u001b[0m\u001b[38;5;34m0\u001b[0m (0.00 B)\n"
            ],
            "text/html": [
              "<pre style=\"white-space:pre;overflow-x:auto;line-height:normal;font-family:Menlo,'DejaVu Sans Mono',consolas,'Courier New',monospace\"><span style=\"font-weight: bold\"> Trainable params: </span><span style=\"color: #00af00; text-decoration-color: #00af00\">0</span> (0.00 B)\n",
              "</pre>\n"
            ]
          },
          "metadata": {}
        },
        {
          "output_type": "display_data",
          "data": {
            "text/plain": [
              "\u001b[1m Non-trainable params: \u001b[0m\u001b[38;5;34m0\u001b[0m (0.00 B)\n"
            ],
            "text/html": [
              "<pre style=\"white-space:pre;overflow-x:auto;line-height:normal;font-family:Menlo,'DejaVu Sans Mono',consolas,'Courier New',monospace\"><span style=\"font-weight: bold\"> Non-trainable params: </span><span style=\"color: #00af00; text-decoration-color: #00af00\">0</span> (0.00 B)\n",
              "</pre>\n"
            ]
          },
          "metadata": {}
        }
      ]
    },
    {
      "cell_type": "code",
      "source": [
        "history = model.fit(trainX, trainY, epochs=500, batch_size=32, validation_split=0.1, verbose=1,\n",
        "          callbacks=[EarlyStopping(\n",
        "                        monitor='val_accuracy',\n",
        "                        patience=5,\n",
        "                        restore_best_weights=True\n",
        "                    )\n",
        "            ])"
      ],
      "metadata": {
        "colab": {
          "base_uri": "https://localhost:8080/"
        },
        "id": "m3fsvgk6Eqam",
        "outputId": "219e19d0-b186-469a-bf47-231d51d04770"
      },
      "execution_count": null,
      "outputs": [
        {
          "output_type": "stream",
          "name": "stdout",
          "text": [
            "Epoch 1/500\n",
            "\u001b[1m64/64\u001b[0m \u001b[32m━━━━━━━━━━━━━━━━━━━━\u001b[0m\u001b[37m\u001b[0m \u001b[1m15s\u001b[0m 139ms/step - accuracy: 0.3403 - loss: 4.0467 - val_accuracy: 0.3829 - val_loss: 3.0804\n",
            "Epoch 2/500\n",
            "\u001b[1m64/64\u001b[0m \u001b[32m━━━━━━━━━━━━━━━━━━━━\u001b[0m\u001b[37m\u001b[0m \u001b[1m5s\u001b[0m 75ms/step - accuracy: 0.3935 - loss: 3.0360 - val_accuracy: 0.4540 - val_loss: 2.2443\n",
            "Epoch 3/500\n",
            "\u001b[1m64/64\u001b[0m \u001b[32m━━━━━━━━━━━━━━━━━━━━\u001b[0m\u001b[37m\u001b[0m \u001b[1m5s\u001b[0m 77ms/step - accuracy: 0.5340 - loss: 1.8631 - val_accuracy: 0.8978 - val_loss: 0.6552\n",
            "Epoch 4/500\n",
            "\u001b[1m64/64\u001b[0m \u001b[32m━━━━━━━━━━━━━━━━━━━━\u001b[0m\u001b[37m\u001b[0m \u001b[1m6s\u001b[0m 92ms/step - accuracy: 0.9260 - loss: 0.5150 - val_accuracy: 0.9613 - val_loss: 0.2493\n",
            "Epoch 5/500\n",
            "\u001b[1m64/64\u001b[0m \u001b[32m━━━━━━━━━━━━━━━━━━━━\u001b[0m\u001b[37m\u001b[0m \u001b[1m10s\u001b[0m 84ms/step - accuracy: 0.9819 - loss: 0.1950 - val_accuracy: 1.0000 - val_loss: 0.0854\n",
            "Epoch 6/500\n",
            "\u001b[1m64/64\u001b[0m \u001b[32m━━━━━━━━━━━━━━━━━━━━\u001b[0m\u001b[37m\u001b[0m \u001b[1m10s\u001b[0m 79ms/step - accuracy: 0.9984 - loss: 0.0804 - val_accuracy: 0.9943 - val_loss: 0.0622\n",
            "Epoch 7/500\n",
            "\u001b[1m64/64\u001b[0m \u001b[32m━━━━━━━━━━━━━━━━━━━━\u001b[0m\u001b[37m\u001b[0m \u001b[1m6s\u001b[0m 100ms/step - accuracy: 0.9982 - loss: 0.0549 - val_accuracy: 1.0000 - val_loss: 0.0325\n",
            "Epoch 8/500\n",
            "\u001b[1m64/64\u001b[0m \u001b[32m━━━━━━━━━━━━━━━━━━━━\u001b[0m\u001b[37m\u001b[0m \u001b[1m8s\u001b[0m 71ms/step - accuracy: 1.0000 - loss: 0.0315 - val_accuracy: 1.0000 - val_loss: 0.0231\n",
            "Epoch 9/500\n",
            "\u001b[1m64/64\u001b[0m \u001b[32m━━━━━━━━━━━━━━━━━━━━\u001b[0m\u001b[37m\u001b[0m \u001b[1m7s\u001b[0m 98ms/step - accuracy: 1.0000 - loss: 0.0223 - val_accuracy: 1.0000 - val_loss: 0.0175\n",
            "Epoch 10/500\n",
            "\u001b[1m64/64\u001b[0m \u001b[32m━━━━━━━━━━━━━━━━━━━━\u001b[0m\u001b[37m\u001b[0m \u001b[1m9s\u001b[0m 76ms/step - accuracy: 1.0000 - loss: 0.0171 - val_accuracy: 1.0000 - val_loss: 0.0138\n"
          ]
        }
      ]
    },
    {
      "cell_type": "code",
      "source": [
        "plt.figure(figsize=(12, 4))\n",
        "plt.subplot(1, 2, 1)\n",
        "plt.plot(history.history['accuracy'], label='Train Acc')\n",
        "plt.plot(history.history['val_accuracy'], label='Val Acc')\n",
        "plt.title('Accuracy')\n",
        "plt.legend()\n",
        "\n",
        "plt.subplot(1, 2, 2)\n",
        "plt.plot(history.history['loss'], label='Train Loss')\n",
        "plt.plot(history.history['val_loss'], label='Val Loss')\n",
        "plt.title('Loss')\n",
        "plt.legend()\n",
        "\n",
        "plt.tight_layout()\n",
        "plt.show()"
      ],
      "metadata": {
        "colab": {
          "base_uri": "https://localhost:8080/",
          "height": 407
        },
        "id": "hZcT8qhWFWqv",
        "outputId": "6f46b5dd-c8b7-4b01-effa-a95d701838ff"
      },
      "execution_count": null,
      "outputs": [
        {
          "output_type": "display_data",
          "data": {
            "text/plain": [
              "<Figure size 1200x400 with 2 Axes>"
            ],
            "image/png": "[encoded data removed]"
          },
          "metadata": {}
        }
      ]
    },
    {
      "cell_type": "code",
      "source": [
        "model.summary()"
      ],
      "metadata": {
        "id": "kPUGctSCJLHb",
        "colab": {
          "base_uri": "https://localhost:8080/",
          "height": 318
        },
        "outputId": "c2371fbf-48a5-45d9-e2d7-a516b3201314"
      },
      "execution_count": null,
      "outputs": [
        {
          "output_type": "display_data",
          "data": {
            "text/plain": [
              "\u001b[1mModel: \"sequential\"\u001b[0m\n"
            ],
            "text/html": [
              "<pre style=\"white-space:pre;overflow-x:auto;line-height:normal;font-family:Menlo,'DejaVu Sans Mono',consolas,'Courier New',monospace\"><span style=\"font-weight: bold\">Model: \"sequential\"</span>\n",
              "</pre>\n"
            ]
          },
          "metadata": {}
        },
        {
          "output_type": "display_data",
          "data": {
            "text/plain": [
              "┏━━━━━━━━━━━━━━━━━━━━━━━━━━━━━━━━━┳━━━━━━━━━━━━━━━━━━━━━━━━┳━━━━━━━━━━━━━━━┓\n",
              "┃\u001b[1m \u001b[0m\u001b[1mLayer (type)                   \u001b[0m\u001b[1m \u001b[0m┃\u001b[1m \u001b[0m\u001b[1mOutput Shape          \u001b[0m\u001b[1m \u001b[0m┃\u001b[1m \u001b[0m\u001b[1m      Param #\u001b[0m\u001b[1m \u001b[0m┃\n",
              "┡━━━━━━━━━━━━━━━━━━━━━━━━━━━━━━━━━╇━━━━━━━━━━━━━━━━━━━━━━━━╇━━━━━━━━━━━━━━━┩\n",
              "│ embedding (\u001b[38;5;33mEmbedding\u001b[0m)           │ (\u001b[38;5;45mNone\u001b[0m, \u001b[38;5;34m7\u001b[0m, \u001b[38;5;34m256\u001b[0m)         │        \u001b[38;5;34m39,168\u001b[0m │\n",
              "├─────────────────────────────────┼────────────────────────┼───────────────┤\n",
              "│ lstm (\u001b[38;5;33mLSTM\u001b[0m)                     │ (\u001b[38;5;45mNone\u001b[0m, \u001b[38;5;34m256\u001b[0m)            │       \u001b[38;5;34m525,312\u001b[0m │\n",
              "├─────────────────────────────────┼────────────────────────┼───────────────┤\n",
              "│ repeat_vector (\u001b[38;5;33mRepeatVector\u001b[0m)    │ (\u001b[38;5;45mNone\u001b[0m, \u001b[38;5;34m7\u001b[0m, \u001b[38;5;34m256\u001b[0m)         │             \u001b[38;5;34m0\u001b[0m │\n",
              "├─────────────────────────────────┼────────────────────────┼───────────────┤\n",
              "│ lstm_1 (\u001b[38;5;33mLSTM\u001b[0m)                   │ (\u001b[38;5;45mNone\u001b[0m, \u001b[38;5;34m7\u001b[0m, \u001b[38;5;34m256\u001b[0m)         │       \u001b[38;5;34m525,312\u001b[0m │\n",
              "├─────────────────────────────────┼────────────────────────┼───────────────┤\n",
              "│ time_distributed                │ (\u001b[38;5;45mNone\u001b[0m, \u001b[38;5;34m7\u001b[0m, \u001b[38;5;34m158\u001b[0m)         │        \u001b[38;5;34m40,606\u001b[0m │\n",
              "│ (\u001b[38;5;33mTimeDistributed\u001b[0m)               │                        │               │\n",
              "└─────────────────────────────────┴────────────────────────┴───────────────┘\n"
            ],
            "text/html": [
              "<pre style=\"white-space:pre;overflow-x:auto;line-height:normal;font-family:Menlo,'DejaVu Sans Mono',consolas,'Courier New',monospace\">┏━━━━━━━━━━━━━━━━━━━━━━━━━━━━━━━━━┳━━━━━━━━━━━━━━━━━━━━━━━━┳━━━━━━━━━━━━━━━┓\n",
              "┃<span style=\"font-weight: bold\"> Layer (type)                    </span>┃<span style=\"font-weight: bold\"> Output Shape           </span>┃<span style=\"font-weight: bold\">       Param # </span>┃\n",
              "┡━━━━━━━━━━━━━━━━━━━━━━━━━━━━━━━━━╇━━━━━━━━━━━━━━━━━━━━━━━━╇━━━━━━━━━━━━━━━┩\n",
              "│ embedding (<span style=\"color: #0087ff; text-decoration-color: #0087ff\">Embedding</span>)           │ (<span style=\"color: #00d7ff; text-decoration-color: #00d7ff\">None</span>, <span style=\"color: #00af00; text-decoration-color: #00af00\">7</span>, <span style=\"color: #00af00; text-decoration-color: #00af00\">256</span>)         │        <span style=\"color: #00af00; text-decoration-color: #00af00\">39,168</span> │\n",
              "├─────────────────────────────────┼────────────────────────┼───────────────┤\n",
              "│ lstm (<span style=\"color: #0087ff; text-decoration-color: #0087ff\">LSTM</span>)                     │ (<span style=\"color: #00d7ff; text-decoration-color: #00d7ff\">None</span>, <span style=\"color: #00af00; text-decoration-color: #00af00\">256</span>)            │       <span style=\"color: #00af00; text-decoration-color: #00af00\">525,312</span> │\n",
              "├─────────────────────────────────┼────────────────────────┼───────────────┤\n",
              "│ repeat_vector (<span style=\"color: #0087ff; text-decoration-color: #0087ff\">RepeatVector</span>)    │ (<span style=\"color: #00d7ff; text-decoration-color: #00d7ff\">None</span>, <span style=\"color: #00af00; text-decoration-color: #00af00\">7</span>, <span style=\"color: #00af00; text-decoration-color: #00af00\">256</span>)         │             <span style=\"color: #00af00; text-decoration-color: #00af00\">0</span> │\n",
              "├─────────────────────────────────┼────────────────────────┼───────────────┤\n",
              "│ lstm_1 (<span style=\"color: #0087ff; text-decoration-color: #0087ff\">LSTM</span>)                   │ (<span style=\"color: #00d7ff; text-decoration-color: #00d7ff\">None</span>, <span style=\"color: #00af00; text-decoration-color: #00af00\">7</span>, <span style=\"color: #00af00; text-decoration-color: #00af00\">256</span>)         │       <span style=\"color: #00af00; text-decoration-color: #00af00\">525,312</span> │\n",
              "├─────────────────────────────────┼────────────────────────┼───────────────┤\n",
              "│ time_distributed                │ (<span style=\"color: #00d7ff; text-decoration-color: #00d7ff\">None</span>, <span style=\"color: #00af00; text-decoration-color: #00af00\">7</span>, <span style=\"color: #00af00; text-decoration-color: #00af00\">158</span>)         │        <span style=\"color: #00af00; text-decoration-color: #00af00\">40,606</span> │\n",
              "│ (<span style=\"color: #0087ff; text-decoration-color: #0087ff\">TimeDistributed</span>)               │                        │               │\n",
              "└─────────────────────────────────┴────────────────────────┴───────────────┘\n",
              "</pre>\n"
            ]
          },
          "metadata": {}
        },
        {
          "output_type": "display_data",
          "data": {
            "text/plain": [
              "\u001b[1m Total params: \u001b[0m\u001b[38;5;34m3,391,196\u001b[0m (12.94 MB)\n"
            ],
            "text/html": [
              "<pre style=\"white-space:pre;overflow-x:auto;line-height:normal;font-family:Menlo,'DejaVu Sans Mono',consolas,'Courier New',monospace\"><span style=\"font-weight: bold\"> Total params: </span><span style=\"color: #00af00; text-decoration-color: #00af00\">3,391,196</span> (12.94 MB)\n",
              "</pre>\n"
            ]
          },
          "metadata": {}
        },
        {
          "output_type": "display_data",
          "data": {
            "text/plain": [
              "\u001b[1m Trainable params: \u001b[0m\u001b[38;5;34m1,130,398\u001b[0m (4.31 MB)\n"
            ],
            "text/html": [
              "<pre style=\"white-space:pre;overflow-x:auto;line-height:normal;font-family:Menlo,'DejaVu Sans Mono',consolas,'Courier New',monospace\"><span style=\"font-weight: bold\"> Trainable params: </span><span style=\"color: #00af00; text-decoration-color: #00af00\">1,130,398</span> (4.31 MB)\n",
              "</pre>\n"
            ]
          },
          "metadata": {}
        },
        {
          "output_type": "display_data",
          "data": {
            "text/plain": [
              "\u001b[1m Non-trainable params: \u001b[0m\u001b[38;5;34m0\u001b[0m (0.00 B)\n"
            ],
            "text/html": [
              "<pre style=\"white-space:pre;overflow-x:auto;line-height:normal;font-family:Menlo,'DejaVu Sans Mono',consolas,'Courier New',monospace\"><span style=\"font-weight: bold\"> Non-trainable params: </span><span style=\"color: #00af00; text-decoration-color: #00af00\">0</span> (0.00 B)\n",
              "</pre>\n"
            ]
          },
          "metadata": {}
        },
        {
          "output_type": "display_data",
          "data": {
            "text/plain": [
              "\u001b[1m Optimizer params: \u001b[0m\u001b[38;5;34m2,260,798\u001b[0m (8.62 MB)\n"
            ],
            "text/html": [
              "<pre style=\"white-space:pre;overflow-x:auto;line-height:normal;font-family:Menlo,'DejaVu Sans Mono',consolas,'Courier New',monospace\"><span style=\"font-weight: bold\"> Optimizer params: </span><span style=\"color: #00af00; text-decoration-color: #00af00\">2,260,798</span> (8.62 MB)\n",
              "</pre>\n"
            ]
          },
          "metadata": {}
        }
      ]
    },
    {
      "cell_type": "markdown",
      "source": [
        "# 3. Result on the test set<a class=\"anchor\" id=\"3\"></a>"
      ],
      "metadata": {
        "id": "zxpYS4n6-WB3"
      }
    },
    {
      "cell_type": "code",
      "source": [
        "from tabulate import tabulate\n",
        "import numpy as np\n",
        "\n",
        "def word_for_id(integer, tokenizer):\n",
        "    # Map an integer to a word\n",
        "    for word, index in tokenizer.word_index.items():\n",
        "        if index == integer:\n",
        "            return word\n",
        "    return None\n",
        "\n",
        "def predict_seq(model, tokenizer, source):\n",
        "    # Generate translation from a source sequence\n",
        "    prediction = model.predict(source, verbose=0)[0]\n",
        "    integers = [np.argmax(vector) for vector in prediction]\n",
        "    target = []\n",
        "\n",
        "    for integer in integers:\n",
        "        word = word_for_id(integer, tokenizer)\n",
        "        if word is None:\n",
        "            break\n",
        "        target.append(word)\n",
        "\n",
        "    return ' '.join(target)\n",
        "\n",
        "def compare_prediction(model, tokenizer, sources, raw_dataset, limit=20):\n",
        "    # Evaluate a model\n",
        "    results = []\n",
        "\n",
        "    for i, source in enumerate(sources):\n",
        "        if i >= limit:\n",
        "            break\n",
        "        # Ensure source is reshaped to 2D array for prediction\n",
        "        source_reshaped = np.reshape(source, (1, -1))  # Reshaping to a 2D array (1, n)\n",
        "\n",
        "        translation = predict_seq(model, tokenizer, source_reshaped)\n",
        "\n",
        "        # Prepare the results\n",
        "        raw_src = raw_dataset[i][idx_src] # Access source sentence using index\n",
        "        raw_target = raw_dataset[i][idx_tar] # Access target sentence using index\n",
        "        translated = translation\n",
        "\n",
        "        results.append([raw_src[:50], raw_target[:50], translated[:50]])  # Display up to first 50 characters\n",
        "\n",
        "\n",
        "    # Output results in a formatted table\n",
        "    headers = [\"Source Text (First 50 chars)\", \"Target Text (First 50 chars)\", \"Translated Text (First 50 chars)\"]\n",
        "    print(tabulate(results, headers=headers, tablefmt=\"pretty\"))\n",
        "\n",
        "# Test on some training sequences\n",
        "print(\"### Result on the Training Set ###\")\n",
        "compare_prediction(model, tar_tokenizer, trainX, train)\n",
        "\n",
        "# Test on some test sequences\n",
        "print(\"\\n\\n### Result on the Test Set ###\")\n",
        "compare_prediction(model, tar_tokenizer, testX, test)"
      ],
      "metadata": {
        "colab": {
          "base_uri": "https://localhost:8080/"
        },
        "id": "E3ETd2VZKqkQ",
        "outputId": "c1d1e94e-8139-4776-98ee-82b710e06cd9"
      },
      "execution_count": null,
      "outputs": [
        {
          "output_type": "stream",
          "name": "stdout",
          "text": [
            "### Result on the Training Set ###\n",
            "+----------------------------------------------------+----------------------------------------------------+----------------------------------------------------+\n",
            "|            Source Text (First 50 chars)            |            Target Text (First 50 chars)            |          Translated Text (First 50 chars)          |\n",
            "+----------------------------------------------------+----------------------------------------------------+----------------------------------------------------+\n",
            "|                 winda iya aseng ku                 |                  nama saya winda                   |                  nama saya winda                   |\n",
            "|              wedding ka ga melli otti              |           apakah saya boleh beli pisang            |           apakah saya boleh beli pisang            |\n",
            "|            pettu sandala ku nasaba iko             |             sandalku putus karena kamu             |             sandalku putus karena kamu             |\n",
            "|             aleng ka baki akki dapo e              |            ambilkan saya baki di dapur             |            ambilkan saya baki di dapur             |\n",
            "|              aleng ka ero sanggang e               |              berikan saya baskom itu               |              berikan saya baskom itu               |\n",
            "| tennang pappeneddingku nasaba wisseng ni kareba na | perasaanku tenang karena telah mengetahui kabarnya | perasaanku tenang karena telah mengetahui kabarnya |\n",
            "|                aja mu tuli massasa                 |          jangan kalian selalu bertengkar           |          jangan kalian selalu bertengkar           |\n",
            "|                deppa umaelo botting                |              saya belum siap menikah               |              saya belum siap menikah               |\n",
            "|                  yolo ka matindro                  |                 saya tidur duluan                  |                 saya tidur duluan                  |\n",
            "|             aleng ka baki akki dapo e              |            ambilkan saya baki di dapur             |            ambilkan saya baki di dapur             |\n",
            "|              wedding ka ga melli otti              |           apakah saya boleh beli pisang            |           apakah saya boleh beli pisang            |\n",
            "|             maelo ko jokka sibawa wika             |            kamu mau pergi bersama wika             |            kamu mau pergi bersama wika             |\n",
            "|           aja mu ala anunna tau langinge           |         jangan mengambil milik orang lain          |         jangan mengambil milik orang lain          |\n",
            "|               siaga ellinna ero bo e               |               berapa harga buku itu                |               berapa harga buku itu                |\n",
            "|             jokka mallaleng bawang ni              |             kita pergi jalan kaki saja             |             kita pergi jalan kaki saja             |\n",
            "|             aja muallupai mandre wenni             |              jangan lupa makan malam               |              jangan lupa makan malam               |\n",
            "|                mapute ladde oli mu                 |                kulitmu putih sekali                |                kulitmu putih sekali                |\n",
            "|             jokka mallaleng bawang ni              |             kita pergi jalan kaki saja             |             kita pergi jalan kaki saja             |\n",
            "|                   esso aga baja                    |                   besok hari apa                   |                   besok hari apa                   |\n",
            "|           aja mu ala anunna tau langinge           |         jangan mengambil milik orang lain          |         jangan mengambil milik orang lain          |\n",
            "+----------------------------------------------------+----------------------------------------------------+----------------------------------------------------+\n",
            "\n",
            "\n",
            "### Result on the Test Set ###\n",
            "+--------------------------------------+----------------------------------------+----------------------------------------+\n",
            "|     Source Text (First 50 chars)     |      Target Text (First 50 chars)      |    Translated Text (First 50 chars)    |\n",
            "+--------------------------------------+----------------------------------------+----------------------------------------+\n",
            "|      ellingeng ka kaju na bale       |      belikan saya sayur dan ikan       |      belikan saya sayur dan ikan       |\n",
            "|         aja mu tuli massasa          |    jangan kalian selalu bertengkar     |    jangan kalian selalu bertengkar     |\n",
            "|     pettu sandala ku nasaba iko      |       sandalku putus karena kamu       |       sandalku putus karena kamu       |\n",
            "|      aja muallupai mandre wenni      |        jangan lupa makan malam         |        jangan lupa makan malam         |\n",
            "|      maeloka mitai mebbu beppa       |   saya ingin melihatnya membuat kue    |   saya ingin melihatnya membuat kue    |\n",
            "|          mannasu kaju ki ga          |       apakah kamu memasak sayur        |       apakah kamu memasak sayur        |\n",
            "|         deppa umaelo botting         |        saya belum siap menikah         |        saya belum siap menikah         |\n",
            "|           yolo ka matindro           |           saya tidur duluan            |           saya tidur duluan            |\n",
            "|       aleng ka ero sanggang e        |        berikan saya baskom itu         |        berikan saya baskom itu         |\n",
            "|    jokka ko mala wae akki bungnge    |     kamu pergi ambil air di sumur      |     kamu pergi ambil air di sumur      |\n",
            "|            esso aga baja             |             besok hari apa             |             besok hari apa             |\n",
            "|    mitauka jokka dare e cilaleku     | saya takut pergi ke kebun seorang diri | saya takut pergi ke kebun seorang diri |\n",
            "|      aja muallupai mandre wenni      |        jangan lupa makan malam         |        jangan lupa makan malam         |\n",
            "|        ebbureng ka wae pella         |        tolong buatkan air panas        |        tolong buatkan air panas        |\n",
            "|       aleng ka ero sanggang e        |        berikan saya baskom itu         |        berikan saya baskom itu         |\n",
            "|         kega onrong penne mu         |         dimana tempat piringmu         |         dimana tempat piringmu         |\n",
            "|        reppa i ero palese we         |            toples itu pecah            |            toples itu pecah            |\n",
            "| macekke ladde hawa na akki kamara mu |     suhu di kamar mu sangat dingin     |     suhu di kamar mu sangat dingin     |\n",
            "|      aja muallupai mandre wenni      |        jangan lupa makan malam         |        jangan lupa makan malam         |\n",
            "|   tennapodo de to nakenna ki abala   |    semoga kita tidak terkena celaka    |    semoga kita tidak terkena celaka    |\n",
            "+--------------------------------------+----------------------------------------+----------------------------------------+\n"
          ]
        }
      ]
    },
    {
      "cell_type": "markdown",
      "source": [
        "# 4. Prediction evaluation with BLEU <a class=\"anchor\" id=\"4\"></a>\n",
        "\n",
        "BLEU (bilingual evaluation understudy) is an algorithm for evaluating the quality of text which has been machine-translated from one natural language to another. Quality is considered to be the correspondence between a machine's output and that of a human: \"the closer a machine translation is to a professional human translation, the better it is\" – this is the central idea behind BLEU. BLEU was one of the first metrics to claim a high correlation with human judgements of quality, and remains one of the most popular automated and inexpensive metrics.\n",
        "\n",
        "Scores are calculated for individual translated segments—generally sentences—by comparing them with a set of good quality reference translations. Those scores are then averaged over the whole corpus to reach an estimate of the translation's overall quality. Intelligibility or grammatical correctness are not taken into account.\n",
        "\n",
        "BLEU's output is always a number between 0 and 1. This value indicates how similar the candidate text is to the reference texts, with values closer to 1 representing more similar texts. Few human translations will attain a score of 1, since this would indicate that the candidate is identical to one of the reference translations. For this reason, it is not necessary to attain a score of 1. Because there are more opportunities to match, adding additional reference translations will increase the BLEU score.\n",
        "\n",
        "\n",
        "## Algorithm\n",
        "\n",
        "BLEU uses a modified form of precision to compare a candidate translation against multiple reference translations. The metric modifies simple precision since machine translation systems have been known to generate more words than are in a reference text. This is illustrated in the following example from Papineni et al. (2002)\n",
        "\n",
        "![example bleu](https://i.imgur.com/mrdpwun.png)\n",
        "\n",
        "Of the seven words in the candidate translation, all of them appear in the reference translations. Thus the candidate text is given a unigram precision of P, where *m* is number of words from the candidate that are found in the reference, and *wt* is the total number of words in the candidate. This is a perfect score, despite the fact that the candidate translation above retains little of the content of either of the references.\n",
        "\n",
        "The modification that BLEU makes is fairly straightforward. For each word in the candidate translation, the algorithm takes its maximum total count, *m_max*, in any of the reference translations. In the example above, the word \"the\" appears twice in reference 1, and once in reference 2. Thus *m_max* = 2.\n",
        "\n",
        "For the candidate translation, the count *mw* of each word is clipped to a maximum of *m_max* for that word. In this case, \"the\" has *m_w* = 7 and *m_max*=2, thus *m_w* is clipped to 2. These clipped counts *m_w* are then summed over all distinct words in the candidate. This sum is then divided by the total number of unigrams in the candidate translation. In the above example, the modified unigram precision score would be: P = 1 / 7\n",
        "\n",
        "In practice, however, using individual words as the unit of comparison is not optimal. Instead, BLEU computes the same modified precision metric using n-grams. The length which has the \"highest correlation with monolingual human judgements\" was found to be four. The unigram scores are found to account for the adequacy of the translation, how much information is retained. The longer n-gram scores account for the fluency of the translation, or to what extent it reads like \"good English\". ([source](https://en.wikipedia.org/wiki/BLEU))\n",
        "\n",
        "![bleu score 2](https://i.imgur.com/tNYaD64.png)"
      ],
      "metadata": {
        "id": "JLJ9Kv4N-WB4"
      }
    },
    {
      "cell_type": "code",
      "source": [
        "# It takes long to compute the BLEU Score\n",
        "\n",
        "def bleu_score(model, tokenizer, sources, raw_dataset):\n",
        "    # Get the bleu score of a model\n",
        "    actual, predicted = [], []\n",
        "    for i, source in enumerate(sources):\n",
        "        # translate encoded source text\n",
        "        source = source.reshape((1, source.shape[0]))\n",
        "        translation = predict_seq(model, tar_tokenizer, source)\n",
        "        raw_target, raw_src = raw_dataset[i]\n",
        "        actual.append([raw_target.split()])\n",
        "        predicted.append(translation.split())\n",
        "\n",
        "    bleu_dic = {}\n",
        "    bleu_dic['1-grams'] = corpus_bleu(actual, predicted, weights=(1.0, 0, 0, 0))\n",
        "    bleu_dic['1-2-grams'] = corpus_bleu(actual, predicted, weights=(0.5, 0.5, 0, 0))\n",
        "    bleu_dic['1-3-grams'] = corpus_bleu(actual, predicted, weights=(0.3, 0.3, 0.3, 0))\n",
        "    bleu_dic['1-4-grams'] = corpus_bleu(actual, predicted, weights=(0.25, 0.25, 0.25, 0.25))\n",
        "\n",
        "    return bleu_dic\n",
        "\n",
        "# Compute the BLEU Score\n",
        "bleu_train = bleu_score(model, tar_tokenizer, trainX, train)\n",
        "bleu_test = bleu_score(model, tar_tokenizer, testX, test)"
      ],
      "metadata": {
        "execution": {
          "iopub.status.busy": "2021-05-23T05:36:30.164477Z",
          "iopub.execute_input": "2021-05-23T05:36:30.164841Z",
          "iopub.status.idle": "2021-05-23T05:42:15.180632Z",
          "shell.execute_reply.started": "2021-05-23T05:36:30.164805Z",
          "shell.execute_reply": "2021-05-23T05:42:15.179595Z"
        },
        "trusted": true,
        "id": "ZfFtrjFD-WB4"
      },
      "execution_count": null,
      "outputs": []
    },
    {
      "cell_type": "code",
      "source": [
        "plt.bar(x = bleu_train.keys(), height = bleu_train.values())\n",
        "plt.title(\"BLEU Score with the training set\")\n",
        "plt.ylim((0,1))\n",
        "plt.show()"
      ],
      "metadata": {
        "execution": {
          "iopub.status.busy": "2021-05-23T05:42:15.181939Z",
          "iopub.execute_input": "2021-05-23T05:42:15.182287Z",
          "iopub.status.idle": "2021-05-23T05:42:15.297279Z",
          "shell.execute_reply.started": "2021-05-23T05:42:15.182252Z",
          "shell.execute_reply": "2021-05-23T05:42:15.296145Z"
        },
        "trusted": true,
        "id": "_kTNSSvJ-WB4",
        "colab": {
          "base_uri": "https://localhost:8080/",
          "height": 452
        },
        "outputId": "dd968703-8529-4aa3-a606-b2a8324039ab"
      },
      "execution_count": null,
      "outputs": [
        {
          "output_type": "display_data",
          "data": {
            "text/plain": [
              "<Figure size 640x480 with 1 Axes>"
            ],
            "image/png": "[encoded data removed]"
          },
          "metadata": {}
        }
      ]
    },
    {
      "cell_type": "code",
      "source": [
        "plt.bar(x = bleu_test.keys(), height = bleu_test.values())\n",
        "plt.title(\"BLEU Score with the test set\")\n",
        "plt.ylim((0,1))\n",
        "plt.show()"
      ],
      "metadata": {
        "execution": {
          "iopub.status.busy": "2021-05-23T05:42:15.298781Z",
          "iopub.execute_input": "2021-05-23T05:42:15.299128Z",
          "iopub.status.idle": "2021-05-23T05:42:15.412779Z",
          "shell.execute_reply.started": "2021-05-23T05:42:15.299091Z",
          "shell.execute_reply": "2021-05-23T05:42:15.411933Z"
        },
        "trusted": true,
        "id": "cLBSO_r2-WB5",
        "colab": {
          "base_uri": "https://localhost:8080/",
          "height": 452
        },
        "outputId": "d590fc56-2aae-452b-cc04-45af1b3d2ef7"
      },
      "execution_count": null,
      "outputs": [
        {
          "output_type": "display_data",
          "data": {
            "text/plain": [
              "<Figure size 640x480 with 1 Axes>"
            ],
            "image/png": "[encoded data removed]"
          },
          "metadata": {}
        }
      ]
    },
    {
      "cell_type": "code",
      "metadata": {
        "colab": {
          "base_uri": "https://localhost:8080/"
        },
        "id": "fbc44902",
        "outputId": "f21e8133-8057-4fed-ba76-55fbc5a5a54f"
      },
      "source": [
        "def bleu_score_no_ngram(model, tokenizer, sources, raw_dataset):\n",
        "    # Get the bleu score of a model without n-grams\n",
        "    actual, predicted = [], []\n",
        "    for i, source in enumerate(sources):\n",
        "        # translate encoded source text\n",
        "        source = source.reshape((1, source.shape[0]))\n",
        "        translation = predict_seq(model, tar_tokenizer, source)\n",
        "        raw_target, raw_src = raw_dataset[i]\n",
        "        actual.append([raw_target.split()])\n",
        "        predicted.append(translation.split())\n",
        "\n",
        "    # Calculate BLEU score with only 1-grams (no n-grams)\n",
        "    bleu_1_gram = corpus_bleu(actual, predicted, weights=(1.0, 0, 0, 0))\n",
        "\n",
        "    return bleu_1_gram\n",
        "\n",
        "# Compute the BLEU Score without n-grams\n",
        "bleu_train_no_ngram = bleu_score_no_ngram(model, tar_tokenizer, trainX, train)\n",
        "bleu_test_no_ngram = bleu_score_no_ngram(model, tar_tokenizer, testX, test)\n",
        "\n",
        "print(f\"BLEU Score on Training Set (no n-grams): {bleu_train_no_ngram}\")\n",
        "print(f\"BLEU Score on Test Set (no n-grams): {bleu_test_no_ngram}\")"
      ],
      "execution_count": null,
      "outputs": [
        {
          "output_type": "stream",
          "name": "stdout",
          "text": [
            "BLEU Score on Training Set (no n-grams): 0.041944637259949\n",
            "BLEU Score on Test Set (no n-grams): 0.039571719125582286\n"
          ]
        }
      ]
    },
    {
      "cell_type": "code",
      "metadata": {
        "colab": {
          "base_uri": "https://localhost:8080/"
        },
        "id": "32e59bdf",
        "outputId": "c554dc0c-0d06-4847-bd76-cf7a29623bde"
      },
      "source": [
        "from tabulate import tabulate\n",
        "import numpy as np\n",
        "from nltk.translate.bleu_score import corpus_bleu\n",
        "\n",
        "\n",
        "def word_for_id(integer, tokenizer):\n",
        "    # Map an integer to a word\n",
        "    for word, index in tokenizer.word_index.items():\n",
        "        if index == integer:\n",
        "            return word\n",
        "    return None\n",
        "\n",
        "def predict_seq(model, tokenizer, source):\n",
        "    # Generate translation from a source sequence\n",
        "    prediction = model.predict(source, verbose=0)[0]\n",
        "    integers = [np.argmax(vector) for vector in prediction]\n",
        "    target = []\n",
        "\n",
        "    for integer in integers:\n",
        "        word = word_for_id(integer, tokenizer)\n",
        "        if word is None:\n",
        "            break\n",
        "        target.append(word)\n",
        "\n",
        "    return ' '.join(target)\n",
        "\n",
        "def calculate_sentence_bleu(reference, hypothesis):\n",
        "    # Calculate BLEU score for a single sentence pair\n",
        "    # corpus_bleu expects a list of references for each hypothesis\n",
        "    # For a single sentence, the reference is a list containing one list of words\n",
        "    reference = [[reference.split()]]\n",
        "    hypothesis = hypothesis.split()\n",
        "    # Calculate 1-gram BLEU score for simplicity in the table\n",
        "    # You can adjust weights for different n-grams if needed\n",
        "    score = corpus_bleu(reference, [hypothesis], weights=(1.0, 0, 0, 0))\n",
        "    return score * 100 # Return as percentage\n",
        "\n",
        "# Create BLEU evaluation table\n",
        "bleu_results = []\n",
        "for i in range(len(test)):\n",
        "    source_text = test[i][idx_src]\n",
        "    target_text = test[i][idx_tar]\n",
        "\n",
        "    # Encode and predict\n",
        "    source_encoded = encode_sequences(src_tokenizer, src_length, [source_text])\n",
        "    translated_text = predict_seq(model, tar_tokenizer, source_encoded)\n",
        "\n",
        "    # Calculate sentence BLEU\n",
        "    bleu_score_sentence = calculate_sentence_bleu(target_text, translated_text)\n",
        "\n",
        "    bleu_results.append([i + 1, source_text[:50], translated_text[:50], target_text[:50], f\"{bleu_score_sentence:.2f}\"]) # Display up to first 50 characters\n",
        "\n",
        "print(\"### Tabel Evaluasi BLEU ###\")\n",
        "headers_bleu = [\"No\", \"Teks Aktual (Bugis)\", \"Hasil Terjemahan\", \"Teks Aktual (Indonesia)\", \"Skor BLEU (%)\"]\n",
        "print(tabulate(bleu_results, headers=headers_bleu, tablefmt=\"pretty\"))"
      ],
      "execution_count": null,
      "outputs": [
        {
          "output_type": "stream",
          "name": "stdout",
          "text": [
            "### Tabel Evaluasi BLEU ###\n",
            "+-----+----------------------------------------------------+----------------------------------------------------+----------------------------------------------------+---------------+\n",
            "| No  |                Teks Aktual (Bugis)                 |                  Hasil Terjemahan                  |              Teks Aktual (Indonesia)               | Skor BLEU (%) |\n",
            "+-----+----------------------------------------------------+----------------------------------------------------+----------------------------------------------------+---------------+\n",
            "|  1  |             ellingeng ka kaju na bale              |            belikan saya sayur dan ikan             |            belikan saya sayur dan ikan             |    100.00     |\n",
            "|  2  |                aja mu tuli massasa                 |          jangan kalian selalu bertengkar           |          jangan kalian selalu bertengkar           |    100.00     |\n",
            "|  3  |            pettu sandala ku nasaba iko             |             sandalku putus karena kamu             |             sandalku putus karena kamu             |    100.00     |\n",
            "|  4  |             aja muallupai mandre wenni             |              jangan lupa makan malam               |              jangan lupa makan malam               |    100.00     |\n",
            "|  5  |             maeloka mitai mebbu beppa              |         saya ingin melihatnya membuat kue          |         saya ingin melihatnya membuat kue          |    100.00     |\n",
            "|  6  |                 mannasu kaju ki ga                 |             apakah kamu memasak sayur              |             apakah kamu memasak sayur              |    100.00     |\n",
            "|  7  |                deppa umaelo botting                |              saya belum siap menikah               |              saya belum siap menikah               |    100.00     |\n",
            "|  8  |                  yolo ka matindro                  |                 saya tidur duluan                  |                 saya tidur duluan                  |    100.00     |\n",
            "|  9  |              aleng ka ero sanggang e               |              berikan saya baskom itu               |              berikan saya baskom itu               |    100.00     |\n",
            "| 10  |           jokka ko mala wae akki bungnge           |           kamu pergi ambil air di sumur            |           kamu pergi ambil air di sumur            |    100.00     |\n",
            "| 11  |                   esso aga baja                    |                   besok hari apa                   |                   besok hari apa                   |    100.00     |\n",
            "| 12  |           mitauka jokka dare e cilaleku            |       saya takut pergi ke kebun seorang diri       |       saya takut pergi ke kebun seorang diri       |    100.00     |\n",
            "| 13  |             aja muallupai mandre wenni             |              jangan lupa makan malam               |              jangan lupa makan malam               |    100.00     |\n",
            "| 14  |               ebbureng ka wae pella                |              tolong buatkan air panas              |              tolong buatkan air panas              |    100.00     |\n",
            "| 15  |              aleng ka ero sanggang e               |              berikan saya baskom itu               |              berikan saya baskom itu               |    100.00     |\n",
            "| 16  |                kega onrong penne mu                |               dimana tempat piringmu               |               dimana tempat piringmu               |    100.00     |\n",
            "| 17  |               reppa i ero palese we                |                  toples itu pecah                  |                  toples itu pecah                  |    100.00     |\n",
            "| 18  |        macekke ladde hawa na akki kamara mu        |           suhu di kamar mu sangat dingin           |           suhu di kamar mu sangat dingin           |    100.00     |\n",
            "| 19  |             aja muallupai mandre wenni             |              jangan lupa makan malam               |              jangan lupa makan malam               |    100.00     |\n",
            "| 20  |          tennapodo de to nakenna ki abala          |          semoga kita tidak terkena celaka          |          semoga kita tidak terkena celaka          |    100.00     |\n",
            "| 21  |              engka maneng akkaleng ta              |              kita semua memiliki akal              |              kita semua memiliki akal              |    100.00     |\n",
            "| 22  |              upoji minung kopi pella               |             saya suka minum kopi panas             |             saya suka minum kopi panas             |    100.00     |\n",
            "| 23  |            akki no pasa e melli sapatu             |           kamu beli sepatu di pasar saja           |           kamu beli sepatu di pasar saja           |    100.00     |\n",
            "| 24  |                punna ko lemari baru                |               kamu punya lemari baru               |               kamu punya lemari baru               |    100.00     |\n",
            "| 25  |               siaga ellinna ero bo e               |               berapa harga buku itu                |               berapa harga buku itu                |    100.00     |\n",
            "| 26  |       melli ka sulara wenni akki juppandang        |        kemarin saya beli celana di makassar        |        kemarin saya beli celana di makassar        |    100.00     |\n",
            "| 27  |          tennapodo de to nakenna ki abala          |          semoga kita tidak terkena celaka          |          semoga kita tidak terkena celaka          |    100.00     |\n",
            "| 28  |           aja mu ala anunna tau langinge           |         jangan mengambil milik orang lain          |         jangan mengambil milik orang lain          |    100.00     |\n",
            "| 29  |                mattello ni manu ku                 |               ayamku sudah bertelur                |               ayamku sudah bertelur                |    100.00     |\n",
            "| 30  |            egana tu agagang mu ta tale             |         banyaknya barangmu yang berserakan         |         banyaknya barangmu yang berserakan         |    100.00     |\n",
            "| 31  |                 marroki akki bo e                  |                  menulis di buku                   |                  menulis di buku                   |    100.00     |\n",
            "| 32  |            egana tu agagang mu ta tale             |         banyaknya barangmu yang berserakan         |         banyaknya barangmu yang berserakan         |    100.00     |\n",
            "| 33  |                aja mu tuli massasa                 |          jangan kalian selalu bertengkar           |          jangan kalian selalu bertengkar           |    100.00     |\n",
            "| 34  |        macekke ladde hawa na akki kamara mu        |           suhu di kamar mu sangat dingin           |           suhu di kamar mu sangat dingin           |    100.00     |\n",
            "| 35  |                mapute ladde oli mu                 |                kulitmu putih sekali                |                kulitmu putih sekali                |    100.00     |\n",
            "| 36  |        makkukue maega ni pake bedda lotong         |    sekarang banyak yang menggunakan bedak hitam    |    sekarang banyak yang menggunakan bedak hitam    |    100.00     |\n",
            "| 37  |             makanja balo na ero lipa e             |               warna sarung itu bagus               |               warna sarung itu bagus               |    100.00     |\n",
            "| 38  |            akki no pasa e melli sapatu             |           kamu beli sepatu di pasar saja           |           kamu beli sepatu di pasar saja           |    100.00     |\n",
            "| 39  |     mappangewang i wika sibawa silessureng na      |          wika berdebat dengan saudaranya           |          wika berdebat dengan saudaranya           |    100.00     |\n",
            "| 40  |              upoji minung kopi pella               |             saya suka minum kopi panas             |             saya suka minum kopi panas             |    100.00     |\n",
            "| 41  |              pake bawang ni potolo ku              |                pakai saja pensilku                 |                pakai saja pensilku                 |    100.00     |\n",
            "| 42  |              aleng ka ero sanggang e               |              berikan saya baskom itu               |              berikan saya baskom itu               |    100.00     |\n",
            "| 43  |            egana tu agagang mu ta tale             |         banyaknya barangmu yang berserakan         |         banyaknya barangmu yang berserakan         |    100.00     |\n",
            "| 44  |     mappangewang i wika sibawa silessureng na      |          wika berdebat dengan saudaranya           |          wika berdebat dengan saudaranya           |    100.00     |\n",
            "| 45  |                punna ko lemari baru                |               kamu punya lemari baru               |               kamu punya lemari baru               |    100.00     |\n",
            "| 46  |                  yolo ka matindro                  |                 saya tidur duluan                  |                 saya tidur duluan                  |    100.00     |\n",
            "| 47  | angerang i bissai pammuttue narekko purani mupake  |    ingat cuci wajannya jika telah kamu gunakan     |    ingat cuci wajannya jika telah kamu gunakan     |    100.00     |\n",
            "| 48  |                mapute ladde oli mu                 |                kulitmu putih sekali                |                kulitmu putih sekali                |    100.00     |\n",
            "| 49  |                  yolo ka matindro                  |                 saya tidur duluan                  |                 saya tidur duluan                  |    100.00     |\n",
            "| 50  |                deppa umaelo botting                |              saya belum siap menikah               |              saya belum siap menikah               |    100.00     |\n",
            "| 51  |             ellingeng ka kaju na bale              |            belikan saya sayur dan ikan             |            belikan saya sayur dan ikan             |    100.00     |\n",
            "| 52  |              aleng ka ero sanggang e               |              berikan saya baskom itu               |              berikan saya baskom itu               |    100.00     |\n",
            "| 53  |               siaga ellinna ero bo e               |               berapa harga buku itu                |               berapa harga buku itu                |    100.00     |\n",
            "| 54  |                aja mu tuli massasa                 |          jangan kalian selalu bertengkar           |          jangan kalian selalu bertengkar           |    100.00     |\n",
            "| 55  |            egana tu agagang mu ta tale             |         banyaknya barangmu yang berserakan         |         banyaknya barangmu yang berserakan         |    100.00     |\n",
            "| 56  |                 mannasu kaju ki ga                 |             apakah kamu memasak sayur              |             apakah kamu memasak sayur              |    100.00     |\n",
            "| 57  |       melli ka sulara wenni akki juppandang        |        kemarin saya beli celana di makassar        |        kemarin saya beli celana di makassar        |    100.00     |\n",
            "| 58  |                punna ko lemari baru                |               kamu punya lemari baru               |               kamu punya lemari baru               |    100.00     |\n",
            "| 59  |              pake bawang ni potolo ku              |                pakai saja pensilku                 |                pakai saja pensilku                 |    100.00     |\n",
            "| 60  |             aleng ka baki akki dapo e              |            ambilkan saya baki di dapur             |            ambilkan saya baki di dapur             |    100.00     |\n",
            "| 61  |           jokka ko mala wae akki bungnge           |           kamu pergi ambil air di sumur            |           kamu pergi ambil air di sumur            |    100.00     |\n",
            "| 62  |             aja muallupai mandre wenni             |              jangan lupa makan malam               |              jangan lupa makan malam               |    100.00     |\n",
            "| 63  |             maeloka mitai mebbu beppa              |         saya ingin melihatnya membuat kue          |         saya ingin melihatnya membuat kue          |    100.00     |\n",
            "| 64  |                mattello ni manu ku                 |               ayamku sudah bertelur                |               ayamku sudah bertelur                |    100.00     |\n",
            "| 65  |                  de mu poji jokka                  |               kamu tidak suka jalan                |               kamu tidak suka jalan                |    100.00     |\n",
            "| 66  |              wedding ka ga melli otti              |           apakah saya boleh beli pisang            |           apakah saya boleh beli pisang            |    100.00     |\n",
            "| 67  |              wedding ka ga melli otti              |           apakah saya boleh beli pisang            |           apakah saya boleh beli pisang            |    100.00     |\n",
            "| 68  |             maeloka mitai mebbu beppa              |         saya ingin melihatnya membuat kue          |         saya ingin melihatnya membuat kue          |    100.00     |\n",
            "| 69  |             maelo ko jokka sibawa wika             |            kamu mau pergi bersama wika             |            kamu mau pergi bersama wika             |    100.00     |\n",
            "| 70  |                mattello ni manu ku                 |               ayamku sudah bertelur                |               ayamku sudah bertelur                |    100.00     |\n",
            "| 71  |           mitauka jokka dare e cilaleku            |       saya takut pergi ke kebun seorang diri       |       saya takut pergi ke kebun seorang diri       |    100.00     |\n",
            "| 72  |           matoakku maberang ero penne we           |        mertuaku yang memberikan piring itu         |        mertuaku yang memberikan piring itu         |    100.00     |\n",
            "| 73  |                aja mu tuli massasa                 |          jangan kalian selalu bertengkar           |          jangan kalian selalu bertengkar           |    100.00     |\n",
            "| 74  |                 alekka dua kadera                  |               berikan aku dua kursi                |               berikan aku dua kursi                |    100.00     |\n",
            "| 75  |                  de mu poji jokka                  |               kamu tidak suka jalan                |               kamu tidak suka jalan                |    100.00     |\n",
            "| 76  |                mapute ladde oli mu                 |                kulitmu putih sekali                |                kulitmu putih sekali                |    100.00     |\n",
            "| 77  | tennang pappeneddingku nasaba wisseng ni kareba na | perasaanku tenang karena telah mengetahui kabarnya | perasaanku tenang karena telah mengetahui kabarnya |    100.00     |\n",
            "| 78  |              wedding ka ga melli otti              |           apakah saya boleh beli pisang            |           apakah saya boleh beli pisang            |    100.00     |\n",
            "| 79  |             jokka mallaleng bawang ni              |             kita pergi jalan kaki saja             |             kita pergi jalan kaki saja             |    100.00     |\n",
            "| 80  |                punna ko lemari baru                |               kamu punya lemari baru               |               kamu punya lemari baru               |    100.00     |\n",
            "| 81  |           jokka ko mala wae akki bungnge           |           kamu pergi ambil air di sumur            |           kamu pergi ambil air di sumur            |    100.00     |\n",
            "| 82  |                 polo ni potolo ku                  |                pensilku sudah patah                |                pensilku sudah patah                |    100.00     |\n",
            "| 83  |                 alekka dua kadera                  |               berikan aku dua kursi                |               berikan aku dua kursi                |    100.00     |\n",
            "| 84  |                mapute ladde oli mu                 |                kulitmu putih sekali                |                kulitmu putih sekali                |    100.00     |\n",
            "| 85  |             jokka mallaleng bawang ni              |             kita pergi jalan kaki saja             |             kita pergi jalan kaki saja             |    100.00     |\n",
            "| 86  |                 winda iya aseng ku                 |                  nama saya winda                   |                  nama saya winda                   |    100.00     |\n",
            "| 87  |            makenni maneng mopa manu ku             |            semua ayam saya masih kecil             |            semua ayam saya masih kecil             |    100.00     |\n",
            "| 88  |              engka maneng akkaleng ta              |              kita semua memiliki akal              |              kita semua memiliki akal              |    100.00     |\n",
            "| 89  |                 marroki akki bo e                  |                  menulis di buku                   |                  menulis di buku                   |    100.00     |\n",
            "| 90  |                  de mu poji jokka                  |               kamu tidak suka jalan                |               kamu tidak suka jalan                |    100.00     |\n",
            "| 91  |        makkukue maega ni pake bedda lotong         |    sekarang banyak yang menggunakan bedak hitam    |    sekarang banyak yang menggunakan bedak hitam    |    100.00     |\n",
            "| 92  |            egana tu agagang mu ta tale             |         banyaknya barangmu yang berserakan         |         banyaknya barangmu yang berserakan         |    100.00     |\n",
            "| 93  |              engka maneng akkaleng ta              |              kita semua memiliki akal              |              kita semua memiliki akal              |    100.00     |\n",
            "| 94  |            pettu sandala ku nasaba iko             |             sandalku putus karena kamu             |             sandalku putus karena kamu             |    100.00     |\n",
            "| 95  |                  yolo ka matindro                  |                 saya tidur duluan                  |                 saya tidur duluan                  |    100.00     |\n",
            "| 96  |                kega onrong penne mu                |               dimana tempat piringmu               |               dimana tempat piringmu               |    100.00     |\n",
            "| 97  |                  de mu poji jokka                  |               kamu tidak suka jalan                |               kamu tidak suka jalan                |    100.00     |\n",
            "| 98  |                 alekka dua kadera                  |               berikan aku dua kursi                |               berikan aku dua kursi                |    100.00     |\n",
            "| 99  |           sabbe masoli uwelingeng beneku           |      saya membelikan istri saya sutera mahal       |      saya membelikan istri saya sutera mahal       |    100.00     |\n",
            "| 100 |          tennapodo de to nakenna ki abala          |          semoga kita tidak terkena celaka          |          semoga kita tidak terkena celaka          |    100.00     |\n",
            "| 101 |            pettu sandala ku nasaba iko             |             sandalku putus karena kamu             |             sandalku putus karena kamu             |    100.00     |\n",
            "| 102 |                engka siaga bola na                 |                ada berapa rumahnya                 |                ada berapa rumahnya                 |    100.00     |\n",
            "| 103 |        macekke ladde hawa na akki kamara mu        |           suhu di kamar mu sangat dingin           |           suhu di kamar mu sangat dingin           |    100.00     |\n",
            "| 104 |        makkukue maega ni pake bedda lotong         |    sekarang banyak yang menggunakan bedak hitam    |    sekarang banyak yang menggunakan bedak hitam    |    100.00     |\n",
            "| 105 |        macai arjun nasaba de ilorengi nange        |    arjun marah karena tidak dibolehkan berenang    |    arjun marah karena tidak dibolehkan berenang    |    100.00     |\n",
            "| 106 |               reppa i ero palese we                |                  toples itu pecah                  |                  toples itu pecah                  |    100.00     |\n",
            "| 107 |           sabbe masoli uwelingeng beneku           |      saya membelikan istri saya sutera mahal       |      saya membelikan istri saya sutera mahal       |    100.00     |\n",
            "| 108 | tennang pappeneddingku nasaba wisseng ni kareba na | perasaanku tenang karena telah mengetahui kabarnya | perasaanku tenang karena telah mengetahui kabarnya |    100.00     |\n",
            "| 109 |     mappangewang i wika sibawa silessureng na      |          wika berdebat dengan saudaranya           |          wika berdebat dengan saudaranya           |    100.00     |\n",
            "| 110 |                deppa umaelo botting                |              saya belum siap menikah               |              saya belum siap menikah               |    100.00     |\n",
            "| 111 |                 marroki akki bo e                  |                  menulis di buku                   |                  menulis di buku                   |    100.00     |\n",
            "| 112 |                   esso aga baja                    |                   besok hari apa                   |                   besok hari apa                   |    100.00     |\n",
            "| 113 |     mappangewang i wika sibawa silessureng na      |          wika berdebat dengan saudaranya           |          wika berdebat dengan saudaranya           |    100.00     |\n",
            "| 114 |            makenni maneng mopa manu ku             |            semua ayam saya masih kecil             |            semua ayam saya masih kecil             |    100.00     |\n",
            "| 115 |                deppa umaelo botting                |              saya belum siap menikah               |              saya belum siap menikah               |    100.00     |\n",
            "| 116 |        makkukue maega ni pake bedda lotong         |    sekarang banyak yang menggunakan bedak hitam    |    sekarang banyak yang menggunakan bedak hitam    |    100.00     |\n",
            "| 117 |               reppa i ero palese we                |                  toples itu pecah                  |                  toples itu pecah                  |    100.00     |\n",
            "| 118 |                mattello ni manu ku                 |               ayamku sudah bertelur                |               ayamku sudah bertelur                |    100.00     |\n",
            "| 119 |             maeloka mitai mebbu beppa              |         saya ingin melihatnya membuat kue          |         saya ingin melihatnya membuat kue          |    100.00     |\n",
            "| 120 | tennang pappeneddingku nasaba wisseng ni kareba na | perasaanku tenang karena telah mengetahui kabarnya | perasaanku tenang karena telah mengetahui kabarnya |    100.00     |\n",
            "| 121 |             jokka mallaleng bawang ni              |             kita pergi jalan kaki saja             |             kita pergi jalan kaki saja             |    100.00     |\n",
            "| 122 |        makkukue maega ni pake bedda lotong         |    sekarang banyak yang menggunakan bedak hitam    |    sekarang banyak yang menggunakan bedak hitam    |    100.00     |\n",
            "| 123 |             aleng ka baki akki dapo e              |            ambilkan saya baki di dapur             |            ambilkan saya baki di dapur             |    100.00     |\n",
            "| 124 |              wedding ka ga melli otti              |           apakah saya boleh beli pisang            |           apakah saya boleh beli pisang            |    100.00     |\n",
            "| 125 |            egana tu agagang mu ta tale             |         banyaknya barangmu yang berserakan         |         banyaknya barangmu yang berserakan         |    100.00     |\n",
            "| 126 |              upoji minung kopi pella               |             saya suka minum kopi panas             |             saya suka minum kopi panas             |    100.00     |\n",
            "| 127 |                aja mu tuli massasa                 |          jangan kalian selalu bertengkar           |          jangan kalian selalu bertengkar           |    100.00     |\n",
            "| 128 |           matoakku maberang ero penne we           |        mertuaku yang memberikan piring itu         |        mertuaku yang memberikan piring itu         |    100.00     |\n",
            "| 129 |        macekke ladde hawa na akki kamara mu        |           suhu di kamar mu sangat dingin           |           suhu di kamar mu sangat dingin           |    100.00     |\n",
            "| 130 |            pettu sandala ku nasaba iko             |             sandalku putus karena kamu             |             sandalku putus karena kamu             |    100.00     |\n",
            "| 131 |                 marroki akki bo e                  |                  menulis di buku                   |                  menulis di buku                   |    100.00     |\n",
            "| 132 |           sabbe masoli uwelingeng beneku           |      saya membelikan istri saya sutera mahal       |      saya membelikan istri saya sutera mahal       |    100.00     |\n",
            "| 133 |                 winda iya aseng ku                 |                  nama saya winda                   |                  nama saya winda                   |    100.00     |\n",
            "| 134 | angerang i bissai pammuttue narekko purani mupake  |    ingat cuci wajannya jika telah kamu gunakan     |    ingat cuci wajannya jika telah kamu gunakan     |    100.00     |\n",
            "| 135 |           matoakku maberang ero penne we           |        mertuaku yang memberikan piring itu         |        mertuaku yang memberikan piring itu         |    100.00     |\n",
            "| 136 |               ebbureng ka wae pella                |              tolong buatkan air panas              |              tolong buatkan air panas              |    100.00     |\n",
            "| 137 |            pettu sandala ku nasaba iko             |             sandalku putus karena kamu             |             sandalku putus karena kamu             |    100.00     |\n",
            "| 138 |             maelo ko jokka sibawa wika             |            kamu mau pergi bersama wika             |            kamu mau pergi bersama wika             |    100.00     |\n",
            "| 139 |        macekke ladde hawa na akki kamara mu        |           suhu di kamar mu sangat dingin           |           suhu di kamar mu sangat dingin           |    100.00     |\n",
            "| 140 |                mattello ni manu ku                 |               ayamku sudah bertelur                |               ayamku sudah bertelur                |    100.00     |\n",
            "| 141 |                  de mu poji jokka                  |               kamu tidak suka jalan                |               kamu tidak suka jalan                |    100.00     |\n",
            "| 142 |           jokka ko mala wae akki bungnge           |           kamu pergi ambil air di sumur            |           kamu pergi ambil air di sumur            |    100.00     |\n",
            "| 143 |                  de mu poji jokka                  |               kamu tidak suka jalan                |               kamu tidak suka jalan                |    100.00     |\n",
            "| 144 |             maelo ko jokka sibawa wika             |            kamu mau pergi bersama wika             |            kamu mau pergi bersama wika             |    100.00     |\n",
            "| 145 |                  yolo ka matindro                  |                 saya tidur duluan                  |                 saya tidur duluan                  |    100.00     |\n",
            "| 146 |                deppa umaelo botting                |              saya belum siap menikah               |              saya belum siap menikah               |    100.00     |\n",
            "| 147 |           aja mu ala anunna tau langinge           |         jangan mengambil milik orang lain          |         jangan mengambil milik orang lain          |    100.00     |\n",
            "| 148 |                  yolo ka matindro                  |                 saya tidur duluan                  |                 saya tidur duluan                  |    100.00     |\n",
            "| 149 |              aleng ka ero sanggang e               |              berikan saya baskom itu               |              berikan saya baskom itu               |    100.00     |\n",
            "| 150 |                 winda iya aseng ku                 |                  nama saya winda                   |                  nama saya winda                   |    100.00     |\n",
            "| 151 |                aja mu tuli massasa                 |          jangan kalian selalu bertengkar           |          jangan kalian selalu bertengkar           |    100.00     |\n",
            "| 152 |              engka maneng akkaleng ta              |              kita semua memiliki akal              |              kita semua memiliki akal              |    100.00     |\n",
            "| 153 |              pake bawang ni potolo ku              |                pakai saja pensilku                 |                pakai saja pensilku                 |    100.00     |\n",
            "| 154 |              pake bawang ni potolo ku              |                pakai saja pensilku                 |                pakai saja pensilku                 |    100.00     |\n",
            "| 155 |        makkukue maega ni pake bedda lotong         |    sekarang banyak yang menggunakan bedak hitam    |    sekarang banyak yang menggunakan bedak hitam    |    100.00     |\n",
            "| 156 |               reppa i ero palese we                |                  toples itu pecah                  |                  toples itu pecah                  |    100.00     |\n",
            "| 157 |             aja muallupai mandre wenni             |              jangan lupa makan malam               |              jangan lupa makan malam               |    100.00     |\n",
            "| 158 |            akki no pasa e melli sapatu             |           kamu beli sepatu di pasar saja           |           kamu beli sepatu di pasar saja           |    100.00     |\n",
            "| 159 |                 alekka dua kadera                  |               berikan aku dua kursi                |               berikan aku dua kursi                |    100.00     |\n",
            "| 160 |                  yolo ka matindro                  |                 saya tidur duluan                  |                 saya tidur duluan                  |    100.00     |\n",
            "| 161 |                   esso aga baja                    |                   besok hari apa                   |                   besok hari apa                   |    100.00     |\n",
            "| 162 |                kega onrong penne mu                |               dimana tempat piringmu               |               dimana tempat piringmu               |    100.00     |\n",
            "| 163 |                 marroki akki bo e                  |                  menulis di buku                   |                  menulis di buku                   |    100.00     |\n",
            "| 164 |        macai arjun nasaba de ilorengi nange        |    arjun marah karena tidak dibolehkan berenang    |    arjun marah karena tidak dibolehkan berenang    |    100.00     |\n",
            "| 165 |              engka maneng akkaleng ta              |              kita semua memiliki akal              |              kita semua memiliki akal              |    100.00     |\n",
            "| 166 |                 polo ni potolo ku                  |                pensilku sudah patah                |                pensilku sudah patah                |    100.00     |\n",
            "| 167 |               aja mu salai onrong mu               |             jangan tinggalkan tempatmu             |             jangan tinggalkan tempatmu             |    100.00     |\n",
            "| 168 |                   esso aga baja                    |                   besok hari apa                   |                   besok hari apa                   |    100.00     |\n",
            "| 169 | tennang pappeneddingku nasaba wisseng ni kareba na | perasaanku tenang karena telah mengetahui kabarnya | perasaanku tenang karena telah mengetahui kabarnya |    100.00     |\n",
            "| 170 |             maeloka mitai mebbu beppa              |         saya ingin melihatnya membuat kue          |         saya ingin melihatnya membuat kue          |    100.00     |\n",
            "| 171 |              pake bawang ni potolo ku              |                pakai saja pensilku                 |                pakai saja pensilku                 |    100.00     |\n",
            "| 172 |               ebbureng ka wae pella                |              tolong buatkan air panas              |              tolong buatkan air panas              |    100.00     |\n",
            "| 173 |                 marroki akki bo e                  |                  menulis di buku                   |                  menulis di buku                   |    100.00     |\n",
            "| 174 |           jokka ko mala wae akki bungnge           |           kamu pergi ambil air di sumur            |           kamu pergi ambil air di sumur            |    100.00     |\n",
            "| 175 |     mappangewang i wika sibawa silessureng na      |          wika berdebat dengan saudaranya           |          wika berdebat dengan saudaranya           |    100.00     |\n",
            "| 176 |                  nappanna mette i                  |                 tumben dia bicara                  |                 tumben dia bicara                  |    100.00     |\n",
            "| 177 |             makanja balo na ero lipa e             |               warna sarung itu bagus               |               warna sarung itu bagus               |    100.00     |\n",
            "| 178 | tennang pappeneddingku nasaba wisseng ni kareba na | perasaanku tenang karena telah mengetahui kabarnya | perasaanku tenang karena telah mengetahui kabarnya |    100.00     |\n",
            "| 179 |               ebbureng ka wae pella                |              tolong buatkan air panas              |              tolong buatkan air panas              |    100.00     |\n",
            "| 180 |                kega onrong penne mu                |               dimana tempat piringmu               |               dimana tempat piringmu               |    100.00     |\n",
            "| 181 |           sabbe masoli uwelingeng beneku           |      saya membelikan istri saya sutera mahal       |      saya membelikan istri saya sutera mahal       |    100.00     |\n",
            "| 182 |               aja mu salai onrong mu               |             jangan tinggalkan tempatmu             |             jangan tinggalkan tempatmu             |    100.00     |\n",
            "| 183 |                  nappanna mette i                  |                 tumben dia bicara                  |                 tumben dia bicara                  |    100.00     |\n",
            "| 184 |                  de mu poji jokka                  |               kamu tidak suka jalan                |               kamu tidak suka jalan                |    100.00     |\n",
            "| 185 |                 polo ni potolo ku                  |                pensilku sudah patah                |                pensilku sudah patah                |    100.00     |\n",
            "| 186 |             maelo ko jokka sibawa wika             |            kamu mau pergi bersama wika             |            kamu mau pergi bersama wika             |    100.00     |\n",
            "| 187 |                   esso aga baja                    |                   besok hari apa                   |                   besok hari apa                   |    100.00     |\n",
            "| 188 |                  de mu poji jokka                  |               kamu tidak suka jalan                |               kamu tidak suka jalan                |    100.00     |\n",
            "| 189 |                 polo ni potolo ku                  |                pensilku sudah patah                |                pensilku sudah patah                |    100.00     |\n",
            "| 190 |           mitauka jokka dare e cilaleku            |       saya takut pergi ke kebun seorang diri       |       saya takut pergi ke kebun seorang diri       |    100.00     |\n",
            "| 191 |               siaga ellinna ero bo e               |               berapa harga buku itu                |               berapa harga buku itu                |    100.00     |\n",
            "| 192 | angerang i bissai pammuttue narekko purani mupake  |    ingat cuci wajannya jika telah kamu gunakan     |    ingat cuci wajannya jika telah kamu gunakan     |    100.00     |\n",
            "| 193 |           aja mu ala anunna tau langinge           |         jangan mengambil milik orang lain          |         jangan mengambil milik orang lain          |    100.00     |\n",
            "| 194 |                mapute ladde oli mu                 |                kulitmu putih sekali                |                kulitmu putih sekali                |    100.00     |\n",
            "| 195 |                 winda iya aseng ku                 |                  nama saya winda                   |                  nama saya winda                   |    100.00     |\n",
            "| 196 |                mattello ni manu ku                 |               ayamku sudah bertelur                |               ayamku sudah bertelur                |    100.00     |\n",
            "| 197 |             ellingeng ka kaju na bale              |            belikan saya sayur dan ikan             |            belikan saya sayur dan ikan             |    100.00     |\n",
            "| 198 |                 marroki akki bo e                  |                  menulis di buku                   |                  menulis di buku                   |    100.00     |\n",
            "| 199 |                 winda iya aseng ku                 |                  nama saya winda                   |                  nama saya winda                   |    100.00     |\n",
            "| 200 |                 mannasu kaju ki ga                 |             apakah kamu memasak sayur              |             apakah kamu memasak sayur              |    100.00     |\n",
            "| 201 |            pettu sandala ku nasaba iko             |             sandalku putus karena kamu             |             sandalku putus karena kamu             |    100.00     |\n",
            "| 202 |             aja muallupai mandre wenni             |              jangan lupa makan malam               |              jangan lupa makan malam               |    100.00     |\n",
            "| 203 |               ebbureng ka wae pella                |              tolong buatkan air panas              |              tolong buatkan air panas              |    100.00     |\n",
            "| 204 |           jokka ko mala wae akki bungnge           |           kamu pergi ambil air di sumur            |           kamu pergi ambil air di sumur            |    100.00     |\n",
            "| 205 |              aleng ka ero sanggang e               |              berikan saya baskom itu               |              berikan saya baskom itu               |    100.00     |\n",
            "| 206 |     mappangewang i wika sibawa silessureng na      |          wika berdebat dengan saudaranya           |          wika berdebat dengan saudaranya           |    100.00     |\n",
            "| 207 | tennang pappeneddingku nasaba wisseng ni kareba na | perasaanku tenang karena telah mengetahui kabarnya | perasaanku tenang karena telah mengetahui kabarnya |    100.00     |\n",
            "| 208 |               aja mu salai onrong mu               |             jangan tinggalkan tempatmu             |             jangan tinggalkan tempatmu             |    100.00     |\n",
            "| 209 |              wedding ka ga melli otti              |           apakah saya boleh beli pisang            |           apakah saya boleh beli pisang            |    100.00     |\n",
            "| 210 |           jokka ko mala wae akki bungnge           |           kamu pergi ambil air di sumur            |           kamu pergi ambil air di sumur            |    100.00     |\n",
            "| 211 | angerang i bissai pammuttue narekko purani mupake  |    ingat cuci wajannya jika telah kamu gunakan     |    ingat cuci wajannya jika telah kamu gunakan     |    100.00     |\n",
            "| 212 |                 marroki akki bo e                  |                  menulis di buku                   |                  menulis di buku                   |    100.00     |\n",
            "| 213 |              pake bawang ni potolo ku              |                pakai saja pensilku                 |                pakai saja pensilku                 |    100.00     |\n",
            "| 214 |           mitauka jokka dare e cilaleku            |       saya takut pergi ke kebun seorang diri       |       saya takut pergi ke kebun seorang diri       |    100.00     |\n",
            "| 215 |        makkukue maega ni pake bedda lotong         |    sekarang banyak yang menggunakan bedak hitam    |    sekarang banyak yang menggunakan bedak hitam    |    100.00     |\n",
            "| 216 |             maeloka mitai mebbu beppa              |         saya ingin melihatnya membuat kue          |         saya ingin melihatnya membuat kue          |    100.00     |\n",
            "| 217 |                  yolo ka matindro                  |                 saya tidur duluan                  |                 saya tidur duluan                  |    100.00     |\n",
            "| 218 |             maelo ko jokka sibawa wika             |            kamu mau pergi bersama wika             |            kamu mau pergi bersama wika             |    100.00     |\n",
            "| 219 |            egana tu agagang mu ta tale             |         banyaknya barangmu yang berserakan         |         banyaknya barangmu yang berserakan         |    100.00     |\n",
            "| 220 |                mapute ladde oli mu                 |                kulitmu putih sekali                |                kulitmu putih sekali                |    100.00     |\n",
            "| 221 |             aleng ka baki akki dapo e              |            ambilkan saya baki di dapur             |            ambilkan saya baki di dapur             |    100.00     |\n",
            "| 222 |          tennapodo de to nakenna ki abala          |          semoga kita tidak terkena celaka          |          semoga kita tidak terkena celaka          |    100.00     |\n",
            "| 223 |           matoakku maberang ero penne we           |        mertuaku yang memberikan piring itu         |        mertuaku yang memberikan piring itu         |    100.00     |\n",
            "| 224 |                 mannasu kaju ki ga                 |             apakah kamu memasak sayur              |             apakah kamu memasak sayur              |    100.00     |\n",
            "| 225 |                 penno ni wae ba e                  |               air di bak sudah penuh               |               air di bak sudah penuh               |    100.00     |\n",
            "| 226 | angerang i bissai pammuttue narekko purani mupake  |    ingat cuci wajannya jika telah kamu gunakan     |    ingat cuci wajannya jika telah kamu gunakan     |    100.00     |\n",
            "| 227 |           mitauka jokka dare e cilaleku            |       saya takut pergi ke kebun seorang diri       |       saya takut pergi ke kebun seorang diri       |    100.00     |\n",
            "| 228 |                 polo ni potolo ku                  |                pensilku sudah patah                |                pensilku sudah patah                |    100.00     |\n",
            "| 229 |                 winda iya aseng ku                 |                  nama saya winda                   |                  nama saya winda                   |    100.00     |\n",
            "| 230 |           sabbe masoli uwelingeng beneku           |      saya membelikan istri saya sutera mahal       |      saya membelikan istri saya sutera mahal       |    100.00     |\n",
            "| 231 |                 polo ni potolo ku                  |                pensilku sudah patah                |                pensilku sudah patah                |    100.00     |\n",
            "| 232 | angerang i bissai pammuttue narekko purani mupake  |    ingat cuci wajannya jika telah kamu gunakan     |    ingat cuci wajannya jika telah kamu gunakan     |    100.00     |\n",
            "| 233 |                   esso aga baja                    |                   besok hari apa                   |                   besok hari apa                   |    100.00     |\n",
            "| 234 |        makkukue maega ni pake bedda lotong         |    sekarang banyak yang menggunakan bedak hitam    |    sekarang banyak yang menggunakan bedak hitam    |    100.00     |\n",
            "| 235 |                 marroki akki bo e                  |                  menulis di buku                   |                  menulis di buku                   |    100.00     |\n",
            "| 236 |             aja muallupai mandre wenni             |              jangan lupa makan malam               |              jangan lupa makan malam               |    100.00     |\n",
            "| 237 |          tennapodo de to nakenna ki abala          |          semoga kita tidak terkena celaka          |          semoga kita tidak terkena celaka          |    100.00     |\n",
            "| 238 |                 alekka dua kadera                  |               berikan aku dua kursi                |               berikan aku dua kursi                |    100.00     |\n",
            "| 239 |             makanja balo na ero lipa e             |               warna sarung itu bagus               |               warna sarung itu bagus               |    100.00     |\n",
            "| 240 |             aja muallupai mandre wenni             |              jangan lupa makan malam               |              jangan lupa makan malam               |    100.00     |\n",
            "| 241 |             aleng ka baki akki dapo e              |            ambilkan saya baki di dapur             |            ambilkan saya baki di dapur             |    100.00     |\n",
            "| 242 |              wedding ka ga melli otti              |           apakah saya boleh beli pisang            |           apakah saya boleh beli pisang            |    100.00     |\n",
            "| 243 |       melli ka sulara wenni akki juppandang        |        kemarin saya beli celana di makassar        |        kemarin saya beli celana di makassar        |    100.00     |\n",
            "| 244 |                punna ko lemari baru                |               kamu punya lemari baru               |               kamu punya lemari baru               |    100.00     |\n",
            "| 245 |           jokka ko mala wae akki bungnge           |           kamu pergi ambil air di sumur            |           kamu pergi ambil air di sumur            |    100.00     |\n",
            "| 246 |             jokka mallaleng bawang ni              |             kita pergi jalan kaki saja             |             kita pergi jalan kaki saja             |    100.00     |\n",
            "| 247 |                 alekka dua kadera                  |               berikan aku dua kursi                |               berikan aku dua kursi                |    100.00     |\n",
            "| 248 | angerang i bissai pammuttue narekko purani mupake  |    ingat cuci wajannya jika telah kamu gunakan     |    ingat cuci wajannya jika telah kamu gunakan     |    100.00     |\n",
            "| 249 |             maeloka mitai mebbu beppa              |         saya ingin melihatnya membuat kue          |         saya ingin melihatnya membuat kue          |    100.00     |\n",
            "| 250 |                  nappanna mette i                  |                 tumben dia bicara                  |                 tumben dia bicara                  |    100.00     |\n",
            "+-----+----------------------------------------------------+----------------------------------------------------+----------------------------------------------------+---------------+\n"
          ]
        }
      ]
    },
    {
      "cell_type": "code",
      "metadata": {
        "colab": {
          "base_uri": "https://localhost:8080/"
        },
        "id": "69f12ad4",
        "outputId": "790caa08-b50a-4437-c6d7-4b470f2b3d72"
      },
      "source": [
        "# Combine actual and predicted translations from training and test sets\n",
        "combined_actual = []\n",
        "combined_predicted = []\n",
        "\n",
        "# Process training set\n",
        "for i, source in enumerate(trainX):\n",
        "    source_reshaped = source.reshape((1, source.shape[0]))\n",
        "    translation = predict_seq(model, tar_tokenizer, source_reshaped)\n",
        "    raw_target = train[i][idx_tar]\n",
        "    combined_actual.append([raw_target.split()])\n",
        "    combined_predicted.append(translation.split())\n",
        "\n",
        "# Process test set\n",
        "for i, source in enumerate(testX):\n",
        "    source_reshaped = source.reshape((1, source.shape[0]))\n",
        "    translation = predict_seq(model, tar_tokenizer, source_reshaped)\n",
        "    raw_target = test[i][idx_tar]\n",
        "    combined_actual.append([raw_target.split()])\n",
        "    combined_predicted.append(translation.split())\n",
        "\n",
        "# Calculate the combined corpus BLEU score (using standard weights 0.25 for all n-grams)\n",
        "combined_bleu_score = corpus_bleu(combined_actual, combined_predicted, weights=(0.25, 0.25, 0.25, 0.25))\n",
        "\n",
        "print(f\"Combined Corpus BLEU Score (Train + Test): {combined_bleu_score}\")\n",
        "\n",
        "# You can also calculate with other weights if desired\n",
        "# combined_bleu_1gram_only = corpus_bleu(combined_actual, combined_predicted, weights=(1.0, 0, 0, 0))\n",
        "# print(f\"Combined Corpus BLEU Score (Train + Test, 1-gram only): {combined_bleu_1gram_only}\")"
      ],
      "execution_count": null,
      "outputs": [
        {
          "output_type": "stream",
          "name": "stdout",
          "text": [
            "Combined Corpus BLEU Score (Train + Test): 0.958836958589684\n"
          ]
        }
      ]
    },
    {
      "cell_type": "markdown",
      "metadata": {
        "id": "38db28fb"
      },
      "source": [
        "# 5. Evaluation with WER (Word Error Rate)\n",
        "\n",
        "Word Error Rate (WER) is a common metric for evaluating the performance of automatic speech recognition or machine translation systems. It measures the number of errors (insertions, deletions, and substitutions) needed to change the predicted sequence into the reference sequence, normalized by the length of the reference sequence. A lower WER indicates better performance.\n",
        "\n",
        "The formula for WER is:\n",
        "\n",
        "$ \\text{WER} = \\frac{S + D + I}{N} $\n",
        "\n",
        "Where:\n",
        "- $S$ is the number of substitutions\n",
        "- $D$ is the number of deletions\n",
        "- $I$ is the number of insertions\n",
        "- $N$ is the number of words in the reference sequence"
      ]
    },
    {
      "cell_type": "code",
      "metadata": {
        "colab": {
          "base_uri": "https://localhost:8080/"
        },
        "id": "806e9747",
        "outputId": "259129ea-55f4-4c5b-8f3c-faa54dc51b80"
      },
      "source": [
        "!pip install jiwer"
      ],
      "execution_count": null,
      "outputs": [
        {
          "output_type": "stream",
          "name": "stdout",
          "text": [
            "Collecting jiwer\n",
            "  Downloading jiwer-4.0.0-py3-none-any.whl.metadata (3.3 kB)\n",
            "Requirement already satisfied: click>=8.1.8 in /usr/local/lib/python3.11/dist-packages (from jiwer) (8.2.1)\n",
            "Collecting rapidfuzz>=3.9.7 (from jiwer)\n",
            "  Downloading rapidfuzz-3.13.0-cp311-cp311-manylinux_2_17_x86_64.manylinux2014_x86_64.whl.metadata (12 kB)\n",
            "Downloading jiwer-4.0.0-py3-none-any.whl (23 kB)\n",
            "Downloading rapidfuzz-3.13.0-cp311-cp311-manylinux_2_17_x86_64.manylinux2014_x86_64.whl (3.1 MB)\n",
            "\u001b[2K   \u001b[90m━━━━━━━━━━━━━━━━━━━━━━━━━━━━━━━━━━━━━━━━\u001b[0m \u001b[32m3.1/3.1 MB\u001b[0m \u001b[31m36.4 MB/s\u001b[0m eta \u001b[36m0:00:00\u001b[0m\n",
            "\u001b[?25hInstalling collected packages: rapidfuzz, jiwer\n",
            "Successfully installed jiwer-4.0.0 rapidfuzz-3.13.0\n"
          ]
        }
      ]
    },
    {
      "cell_type": "code",
      "metadata": {
        "colab": {
          "base_uri": "https://localhost:8080/"
        },
        "id": "1774259f",
        "outputId": "665544d3-8555-4b18-d385-077d14e0974c"
      },
      "source": [
        "import jiwer\n",
        "\n",
        "def calculate_sentence_wer_details(reference, hypothesis):\n",
        "    # Calculate WER details (S, D, I, N) for a single sentence pair\n",
        "    measures = jiwer.process_words(reference, hypothesis)\n",
        "\n",
        "    ref_words = reference.split()\n",
        "    n = len(ref_words)\n",
        "\n",
        "    # Handle empty reference\n",
        "    if n == 0:\n",
        "         return 0, 0, 0, 0, float('inf') if len(hypothesis.split()) > 0 else 0.0\n",
        "\n",
        "\n",
        "    s = measures.substitutions\n",
        "    d = measures.deletions\n",
        "    i = measures.insertions\n",
        "    wer_score = (s + d + i) / n\n",
        "\n",
        "    return s, d, i, n, wer_score * 100 # Return as percentage\n",
        "\n",
        "# Create WER evaluation table\n",
        "wer_results = []\n",
        "for i in range(len(test)):\n",
        "    source_text = test[i][idx_src]\n",
        "    target_text = test[i][idx_tar]\n",
        "\n",
        "    # Encode and predict\n",
        "    source_encoded = encode_sequences(src_tokenizer, src_length, [source_text])\n",
        "    translated_text = predict_seq(model, tar_tokenizer, source_encoded)\n",
        "\n",
        "    # Calculate sentence WER details\n",
        "    s, d, i, n, wer_score_sentence = calculate_sentence_wer_details(target_text, translated_text)\n",
        "\n",
        "    wer_results.append([target_text[:50], translated_text[:50], s, d, i, n, f\"{wer_score_sentence:.2f}\"]) # Display up to first 50 characters\n",
        "\n",
        "print(\"\\n### Tabel Evaluasi WER ###\")\n",
        "headers_wer = [\"Terjemahan Sebenarnya\", \"Hasil Terjemahan\", \"S\", \"D\", \"I\", \"N\", \"WER (%)\"]\n",
        "print(tabulate(wer_results, headers=headers_wer, tablefmt=\"pretty\"))"
      ],
      "execution_count": null,
      "outputs": [
        {
          "output_type": "stream",
          "name": "stdout",
          "text": [
            "\n",
            "### Tabel Evaluasi WER ###\n",
            "+----------------------------------------------------+----------------------------------------------------+---+---+---+---+---------+\n",
            "|               Terjemahan Sebenarnya                |                  Hasil Terjemahan                  | S | D | I | N | WER (%) |\n",
            "+----------------------------------------------------+----------------------------------------------------+---+---+---+---+---------+\n",
            "|            belikan saya sayur dan ikan             |            belikan saya sayur dan ikan             | 0 | 0 | 0 | 5 |  0.00   |\n",
            "|          jangan kalian selalu bertengkar           |          jangan kalian selalu bertengkar           | 0 | 0 | 0 | 4 |  0.00   |\n",
            "|             sandalku putus karena kamu             |             sandalku putus karena kamu             | 0 | 0 | 0 | 4 |  0.00   |\n",
            "|              jangan lupa makan malam               |              jangan lupa makan malam               | 0 | 0 | 0 | 4 |  0.00   |\n",
            "|         saya ingin melihatnya membuat kue          |         saya ingin melihatnya membuat kue          | 0 | 0 | 0 | 5 |  0.00   |\n",
            "|             apakah kamu memasak sayur              |             apakah kamu memasak sayur              | 0 | 0 | 0 | 4 |  0.00   |\n",
            "|              saya belum siap menikah               |              saya belum siap menikah               | 0 | 0 | 0 | 4 |  0.00   |\n",
            "|                 saya tidur duluan                  |                 saya tidur duluan                  | 0 | 0 | 0 | 3 |  0.00   |\n",
            "|              berikan saya baskom itu               |              berikan saya baskom itu               | 0 | 0 | 0 | 4 |  0.00   |\n",
            "|           kamu pergi ambil air di sumur            |           kamu pergi ambil air di sumur            | 0 | 0 | 0 | 6 |  0.00   |\n",
            "|                   besok hari apa                   |                   besok hari apa                   | 0 | 0 | 0 | 3 |  0.00   |\n",
            "|       saya takut pergi ke kebun seorang diri       |       saya takut pergi ke kebun seorang diri       | 0 | 0 | 0 | 7 |  0.00   |\n",
            "|              jangan lupa makan malam               |              jangan lupa makan malam               | 0 | 0 | 0 | 4 |  0.00   |\n",
            "|              tolong buatkan air panas              |              tolong buatkan air panas              | 0 | 0 | 0 | 4 |  0.00   |\n",
            "|              berikan saya baskom itu               |              berikan saya baskom itu               | 0 | 0 | 0 | 4 |  0.00   |\n",
            "|               dimana tempat piringmu               |               dimana tempat piringmu               | 0 | 0 | 0 | 3 |  0.00   |\n",
            "|                  toples itu pecah                  |                  toples itu pecah                  | 0 | 0 | 0 | 3 |  0.00   |\n",
            "|           suhu di kamar mu sangat dingin           |           suhu di kamar mu sangat dingin           | 0 | 0 | 0 | 6 |  0.00   |\n",
            "|              jangan lupa makan malam               |              jangan lupa makan malam               | 0 | 0 | 0 | 4 |  0.00   |\n",
            "|          semoga kita tidak terkena celaka          |          semoga kita tidak terkena celaka          | 0 | 0 | 0 | 5 |  0.00   |\n",
            "|              kita semua memiliki akal              |              kita semua memiliki akal              | 0 | 0 | 0 | 4 |  0.00   |\n",
            "|             saya suka minum kopi panas             |             saya suka minum kopi panas             | 0 | 0 | 0 | 5 |  0.00   |\n",
            "|           kamu beli sepatu di pasar saja           |           kamu beli sepatu di pasar saja           | 0 | 0 | 0 | 6 |  0.00   |\n",
            "|               kamu punya lemari baru               |               kamu punya lemari baru               | 0 | 0 | 0 | 4 |  0.00   |\n",
            "|               berapa harga buku itu                |               berapa harga buku itu                | 0 | 0 | 0 | 4 |  0.00   |\n",
            "|        kemarin saya beli celana di makassar        |        kemarin saya beli celana di makassar        | 0 | 0 | 0 | 6 |  0.00   |\n",
            "|          semoga kita tidak terkena celaka          |          semoga kita tidak terkena celaka          | 0 | 0 | 0 | 5 |  0.00   |\n",
            "|         jangan mengambil milik orang lain          |         jangan mengambil milik orang lain          | 0 | 0 | 0 | 5 |  0.00   |\n",
            "|               ayamku sudah bertelur                |               ayamku sudah bertelur                | 0 | 0 | 0 | 3 |  0.00   |\n",
            "|         banyaknya barangmu yang berserakan         |         banyaknya barangmu yang berserakan         | 0 | 0 | 0 | 4 |  0.00   |\n",
            "|                  menulis di buku                   |                  menulis di buku                   | 0 | 0 | 0 | 3 |  0.00   |\n",
            "|         banyaknya barangmu yang berserakan         |         banyaknya barangmu yang berserakan         | 0 | 0 | 0 | 4 |  0.00   |\n",
            "|          jangan kalian selalu bertengkar           |          jangan kalian selalu bertengkar           | 0 | 0 | 0 | 4 |  0.00   |\n",
            "|           suhu di kamar mu sangat dingin           |           suhu di kamar mu sangat dingin           | 0 | 0 | 0 | 6 |  0.00   |\n",
            "|                kulitmu putih sekali                |                kulitmu putih sekali                | 0 | 0 | 0 | 3 |  0.00   |\n",
            "|    sekarang banyak yang menggunakan bedak hitam    |    sekarang banyak yang menggunakan bedak hitam    | 0 | 0 | 0 | 6 |  0.00   |\n",
            "|               warna sarung itu bagus               |               warna sarung itu bagus               | 0 | 0 | 0 | 4 |  0.00   |\n",
            "|           kamu beli sepatu di pasar saja           |           kamu beli sepatu di pasar saja           | 0 | 0 | 0 | 6 |  0.00   |\n",
            "|          wika berdebat dengan saudaranya           |          wika berdebat dengan saudaranya           | 0 | 0 | 0 | 4 |  0.00   |\n",
            "|             saya suka minum kopi panas             |             saya suka minum kopi panas             | 0 | 0 | 0 | 5 |  0.00   |\n",
            "|                pakai saja pensilku                 |                pakai saja pensilku                 | 0 | 0 | 0 | 3 |  0.00   |\n",
            "|              berikan saya baskom itu               |              berikan saya baskom itu               | 0 | 0 | 0 | 4 |  0.00   |\n",
            "|         banyaknya barangmu yang berserakan         |         banyaknya barangmu yang berserakan         | 0 | 0 | 0 | 4 |  0.00   |\n",
            "|          wika berdebat dengan saudaranya           |          wika berdebat dengan saudaranya           | 0 | 0 | 0 | 4 |  0.00   |\n",
            "|               kamu punya lemari baru               |               kamu punya lemari baru               | 0 | 0 | 0 | 4 |  0.00   |\n",
            "|                 saya tidur duluan                  |                 saya tidur duluan                  | 0 | 0 | 0 | 3 |  0.00   |\n",
            "|    ingat cuci wajannya jika telah kamu gunakan     |    ingat cuci wajannya jika telah kamu gunakan     | 0 | 0 | 0 | 7 |  0.00   |\n",
            "|                kulitmu putih sekali                |                kulitmu putih sekali                | 0 | 0 | 0 | 3 |  0.00   |\n",
            "|                 saya tidur duluan                  |                 saya tidur duluan                  | 0 | 0 | 0 | 3 |  0.00   |\n",
            "|              saya belum siap menikah               |              saya belum siap menikah               | 0 | 0 | 0 | 4 |  0.00   |\n",
            "|            belikan saya sayur dan ikan             |            belikan saya sayur dan ikan             | 0 | 0 | 0 | 5 |  0.00   |\n",
            "|              berikan saya baskom itu               |              berikan saya baskom itu               | 0 | 0 | 0 | 4 |  0.00   |\n",
            "|               berapa harga buku itu                |               berapa harga buku itu                | 0 | 0 | 0 | 4 |  0.00   |\n",
            "|          jangan kalian selalu bertengkar           |          jangan kalian selalu bertengkar           | 0 | 0 | 0 | 4 |  0.00   |\n",
            "|         banyaknya barangmu yang berserakan         |         banyaknya barangmu yang berserakan         | 0 | 0 | 0 | 4 |  0.00   |\n",
            "|             apakah kamu memasak sayur              |             apakah kamu memasak sayur              | 0 | 0 | 0 | 4 |  0.00   |\n",
            "|        kemarin saya beli celana di makassar        |        kemarin saya beli celana di makassar        | 0 | 0 | 0 | 6 |  0.00   |\n",
            "|               kamu punya lemari baru               |               kamu punya lemari baru               | 0 | 0 | 0 | 4 |  0.00   |\n",
            "|                pakai saja pensilku                 |                pakai saja pensilku                 | 0 | 0 | 0 | 3 |  0.00   |\n",
            "|            ambilkan saya baki di dapur             |            ambilkan saya baki di dapur             | 0 | 0 | 0 | 5 |  0.00   |\n",
            "|           kamu pergi ambil air di sumur            |           kamu pergi ambil air di sumur            | 0 | 0 | 0 | 6 |  0.00   |\n",
            "|              jangan lupa makan malam               |              jangan lupa makan malam               | 0 | 0 | 0 | 4 |  0.00   |\n",
            "|         saya ingin melihatnya membuat kue          |         saya ingin melihatnya membuat kue          | 0 | 0 | 0 | 5 |  0.00   |\n",
            "|               ayamku sudah bertelur                |               ayamku sudah bertelur                | 0 | 0 | 0 | 3 |  0.00   |\n",
            "|               kamu tidak suka jalan                |               kamu tidak suka jalan                | 0 | 0 | 0 | 4 |  0.00   |\n",
            "|           apakah saya boleh beli pisang            |           apakah saya boleh beli pisang            | 0 | 0 | 0 | 5 |  0.00   |\n",
            "|           apakah saya boleh beli pisang            |           apakah saya boleh beli pisang            | 0 | 0 | 0 | 5 |  0.00   |\n",
            "|         saya ingin melihatnya membuat kue          |         saya ingin melihatnya membuat kue          | 0 | 0 | 0 | 5 |  0.00   |\n",
            "|            kamu mau pergi bersama wika             |            kamu mau pergi bersama wika             | 0 | 0 | 0 | 5 |  0.00   |\n",
            "|               ayamku sudah bertelur                |               ayamku sudah bertelur                | 0 | 0 | 0 | 3 |  0.00   |\n",
            "|       saya takut pergi ke kebun seorang diri       |       saya takut pergi ke kebun seorang diri       | 0 | 0 | 0 | 7 |  0.00   |\n",
            "|        mertuaku yang memberikan piring itu         |        mertuaku yang memberikan piring itu         | 0 | 0 | 0 | 5 |  0.00   |\n",
            "|          jangan kalian selalu bertengkar           |          jangan kalian selalu bertengkar           | 0 | 0 | 0 | 4 |  0.00   |\n",
            "|               berikan aku dua kursi                |               berikan aku dua kursi                | 0 | 0 | 0 | 4 |  0.00   |\n",
            "|               kamu tidak suka jalan                |               kamu tidak suka jalan                | 0 | 0 | 0 | 4 |  0.00   |\n",
            "|                kulitmu putih sekali                |                kulitmu putih sekali                | 0 | 0 | 0 | 3 |  0.00   |\n",
            "| perasaanku tenang karena telah mengetahui kabarnya | perasaanku tenang karena telah mengetahui kabarnya | 0 | 0 | 0 | 6 |  0.00   |\n",
            "|           apakah saya boleh beli pisang            |           apakah saya boleh beli pisang            | 0 | 0 | 0 | 5 |  0.00   |\n",
            "|             kita pergi jalan kaki saja             |             kita pergi jalan kaki saja             | 0 | 0 | 0 | 5 |  0.00   |\n",
            "|               kamu punya lemari baru               |               kamu punya lemari baru               | 0 | 0 | 0 | 4 |  0.00   |\n",
            "|           kamu pergi ambil air di sumur            |           kamu pergi ambil air di sumur            | 0 | 0 | 0 | 6 |  0.00   |\n",
            "|                pensilku sudah patah                |                pensilku sudah patah                | 0 | 0 | 0 | 3 |  0.00   |\n",
            "|               berikan aku dua kursi                |               berikan aku dua kursi                | 0 | 0 | 0 | 4 |  0.00   |\n",
            "|                kulitmu putih sekali                |                kulitmu putih sekali                | 0 | 0 | 0 | 3 |  0.00   |\n",
            "|             kita pergi jalan kaki saja             |             kita pergi jalan kaki saja             | 0 | 0 | 0 | 5 |  0.00   |\n",
            "|                  nama saya winda                   |                  nama saya winda                   | 0 | 0 | 0 | 3 |  0.00   |\n",
            "|            semua ayam saya masih kecil             |            semua ayam saya masih kecil             | 0 | 0 | 0 | 5 |  0.00   |\n",
            "|              kita semua memiliki akal              |              kita semua memiliki akal              | 0 | 0 | 0 | 4 |  0.00   |\n",
            "|                  menulis di buku                   |                  menulis di buku                   | 0 | 0 | 0 | 3 |  0.00   |\n",
            "|               kamu tidak suka jalan                |               kamu tidak suka jalan                | 0 | 0 | 0 | 4 |  0.00   |\n",
            "|    sekarang banyak yang menggunakan bedak hitam    |    sekarang banyak yang menggunakan bedak hitam    | 0 | 0 | 0 | 6 |  0.00   |\n",
            "|         banyaknya barangmu yang berserakan         |         banyaknya barangmu yang berserakan         | 0 | 0 | 0 | 4 |  0.00   |\n",
            "|              kita semua memiliki akal              |              kita semua memiliki akal              | 0 | 0 | 0 | 4 |  0.00   |\n",
            "|             sandalku putus karena kamu             |             sandalku putus karena kamu             | 0 | 0 | 0 | 4 |  0.00   |\n",
            "|                 saya tidur duluan                  |                 saya tidur duluan                  | 0 | 0 | 0 | 3 |  0.00   |\n",
            "|               dimana tempat piringmu               |               dimana tempat piringmu               | 0 | 0 | 0 | 3 |  0.00   |\n",
            "|               kamu tidak suka jalan                |               kamu tidak suka jalan                | 0 | 0 | 0 | 4 |  0.00   |\n",
            "|               berikan aku dua kursi                |               berikan aku dua kursi                | 0 | 0 | 0 | 4 |  0.00   |\n",
            "|      saya membelikan istri saya sutera mahal       |      saya membelikan istri saya sutera mahal       | 0 | 0 | 0 | 6 |  0.00   |\n",
            "|          semoga kita tidak terkena celaka          |          semoga kita tidak terkena celaka          | 0 | 0 | 0 | 5 |  0.00   |\n",
            "|             sandalku putus karena kamu             |             sandalku putus karena kamu             | 0 | 0 | 0 | 4 |  0.00   |\n",
            "|                ada berapa rumahnya                 |                ada berapa rumahnya                 | 0 | 0 | 0 | 3 |  0.00   |\n",
            "|           suhu di kamar mu sangat dingin           |           suhu di kamar mu sangat dingin           | 0 | 0 | 0 | 6 |  0.00   |\n",
            "|    sekarang banyak yang menggunakan bedak hitam    |    sekarang banyak yang menggunakan bedak hitam    | 0 | 0 | 0 | 6 |  0.00   |\n",
            "|    arjun marah karena tidak dibolehkan berenang    |    arjun marah karena tidak dibolehkan berenang    | 0 | 0 | 0 | 6 |  0.00   |\n",
            "|                  toples itu pecah                  |                  toples itu pecah                  | 0 | 0 | 0 | 3 |  0.00   |\n",
            "|      saya membelikan istri saya sutera mahal       |      saya membelikan istri saya sutera mahal       | 0 | 0 | 0 | 6 |  0.00   |\n",
            "| perasaanku tenang karena telah mengetahui kabarnya | perasaanku tenang karena telah mengetahui kabarnya | 0 | 0 | 0 | 6 |  0.00   |\n",
            "|          wika berdebat dengan saudaranya           |          wika berdebat dengan saudaranya           | 0 | 0 | 0 | 4 |  0.00   |\n",
            "|              saya belum siap menikah               |              saya belum siap menikah               | 0 | 0 | 0 | 4 |  0.00   |\n",
            "|                  menulis di buku                   |                  menulis di buku                   | 0 | 0 | 0 | 3 |  0.00   |\n",
            "|                   besok hari apa                   |                   besok hari apa                   | 0 | 0 | 0 | 3 |  0.00   |\n",
            "|          wika berdebat dengan saudaranya           |          wika berdebat dengan saudaranya           | 0 | 0 | 0 | 4 |  0.00   |\n",
            "|            semua ayam saya masih kecil             |            semua ayam saya masih kecil             | 0 | 0 | 0 | 5 |  0.00   |\n",
            "|              saya belum siap menikah               |              saya belum siap menikah               | 0 | 0 | 0 | 4 |  0.00   |\n",
            "|    sekarang banyak yang menggunakan bedak hitam    |    sekarang banyak yang menggunakan bedak hitam    | 0 | 0 | 0 | 6 |  0.00   |\n",
            "|                  toples itu pecah                  |                  toples itu pecah                  | 0 | 0 | 0 | 3 |  0.00   |\n",
            "|               ayamku sudah bertelur                |               ayamku sudah bertelur                | 0 | 0 | 0 | 3 |  0.00   |\n",
            "|         saya ingin melihatnya membuat kue          |         saya ingin melihatnya membuat kue          | 0 | 0 | 0 | 5 |  0.00   |\n",
            "| perasaanku tenang karena telah mengetahui kabarnya | perasaanku tenang karena telah mengetahui kabarnya | 0 | 0 | 0 | 6 |  0.00   |\n",
            "|             kita pergi jalan kaki saja             |             kita pergi jalan kaki saja             | 0 | 0 | 0 | 5 |  0.00   |\n",
            "|    sekarang banyak yang menggunakan bedak hitam    |    sekarang banyak yang menggunakan bedak hitam    | 0 | 0 | 0 | 6 |  0.00   |\n",
            "|            ambilkan saya baki di dapur             |            ambilkan saya baki di dapur             | 0 | 0 | 0 | 5 |  0.00   |\n",
            "|           apakah saya boleh beli pisang            |           apakah saya boleh beli pisang            | 0 | 0 | 0 | 5 |  0.00   |\n",
            "|         banyaknya barangmu yang berserakan         |         banyaknya barangmu yang berserakan         | 0 | 0 | 0 | 4 |  0.00   |\n",
            "|             saya suka minum kopi panas             |             saya suka minum kopi panas             | 0 | 0 | 0 | 5 |  0.00   |\n",
            "|          jangan kalian selalu bertengkar           |          jangan kalian selalu bertengkar           | 0 | 0 | 0 | 4 |  0.00   |\n",
            "|        mertuaku yang memberikan piring itu         |        mertuaku yang memberikan piring itu         | 0 | 0 | 0 | 5 |  0.00   |\n",
            "|           suhu di kamar mu sangat dingin           |           suhu di kamar mu sangat dingin           | 0 | 0 | 0 | 6 |  0.00   |\n",
            "|             sandalku putus karena kamu             |             sandalku putus karena kamu             | 0 | 0 | 0 | 4 |  0.00   |\n",
            "|                  menulis di buku                   |                  menulis di buku                   | 0 | 0 | 0 | 3 |  0.00   |\n",
            "|      saya membelikan istri saya sutera mahal       |      saya membelikan istri saya sutera mahal       | 0 | 0 | 0 | 6 |  0.00   |\n",
            "|                  nama saya winda                   |                  nama saya winda                   | 0 | 0 | 0 | 3 |  0.00   |\n",
            "|    ingat cuci wajannya jika telah kamu gunakan     |    ingat cuci wajannya jika telah kamu gunakan     | 0 | 0 | 0 | 7 |  0.00   |\n",
            "|        mertuaku yang memberikan piring itu         |        mertuaku yang memberikan piring itu         | 0 | 0 | 0 | 5 |  0.00   |\n",
            "|              tolong buatkan air panas              |              tolong buatkan air panas              | 0 | 0 | 0 | 4 |  0.00   |\n",
            "|             sandalku putus karena kamu             |             sandalku putus karena kamu             | 0 | 0 | 0 | 4 |  0.00   |\n",
            "|            kamu mau pergi bersama wika             |            kamu mau pergi bersama wika             | 0 | 0 | 0 | 5 |  0.00   |\n",
            "|           suhu di kamar mu sangat dingin           |           suhu di kamar mu sangat dingin           | 0 | 0 | 0 | 6 |  0.00   |\n",
            "|               ayamku sudah bertelur                |               ayamku sudah bertelur                | 0 | 0 | 0 | 3 |  0.00   |\n",
            "|               kamu tidak suka jalan                |               kamu tidak suka jalan                | 0 | 0 | 0 | 4 |  0.00   |\n",
            "|           kamu pergi ambil air di sumur            |           kamu pergi ambil air di sumur            | 0 | 0 | 0 | 6 |  0.00   |\n",
            "|               kamu tidak suka jalan                |               kamu tidak suka jalan                | 0 | 0 | 0 | 4 |  0.00   |\n",
            "|            kamu mau pergi bersama wika             |            kamu mau pergi bersama wika             | 0 | 0 | 0 | 5 |  0.00   |\n",
            "|                 saya tidur duluan                  |                 saya tidur duluan                  | 0 | 0 | 0 | 3 |  0.00   |\n",
            "|              saya belum siap menikah               |              saya belum siap menikah               | 0 | 0 | 0 | 4 |  0.00   |\n",
            "|         jangan mengambil milik orang lain          |         jangan mengambil milik orang lain          | 0 | 0 | 0 | 5 |  0.00   |\n",
            "|                 saya tidur duluan                  |                 saya tidur duluan                  | 0 | 0 | 0 | 3 |  0.00   |\n",
            "|              berikan saya baskom itu               |              berikan saya baskom itu               | 0 | 0 | 0 | 4 |  0.00   |\n",
            "|                  nama saya winda                   |                  nama saya winda                   | 0 | 0 | 0 | 3 |  0.00   |\n",
            "|          jangan kalian selalu bertengkar           |          jangan kalian selalu bertengkar           | 0 | 0 | 0 | 4 |  0.00   |\n",
            "|              kita semua memiliki akal              |              kita semua memiliki akal              | 0 | 0 | 0 | 4 |  0.00   |\n",
            "|                pakai saja pensilku                 |                pakai saja pensilku                 | 0 | 0 | 0 | 3 |  0.00   |\n",
            "|                pakai saja pensilku                 |                pakai saja pensilku                 | 0 | 0 | 0 | 3 |  0.00   |\n",
            "|    sekarang banyak yang menggunakan bedak hitam    |    sekarang banyak yang menggunakan bedak hitam    | 0 | 0 | 0 | 6 |  0.00   |\n",
            "|                  toples itu pecah                  |                  toples itu pecah                  | 0 | 0 | 0 | 3 |  0.00   |\n",
            "|              jangan lupa makan malam               |              jangan lupa makan malam               | 0 | 0 | 0 | 4 |  0.00   |\n",
            "|           kamu beli sepatu di pasar saja           |           kamu beli sepatu di pasar saja           | 0 | 0 | 0 | 6 |  0.00   |\n",
            "|               berikan aku dua kursi                |               berikan aku dua kursi                | 0 | 0 | 0 | 4 |  0.00   |\n",
            "|                 saya tidur duluan                  |                 saya tidur duluan                  | 0 | 0 | 0 | 3 |  0.00   |\n",
            "|                   besok hari apa                   |                   besok hari apa                   | 0 | 0 | 0 | 3 |  0.00   |\n",
            "|               dimana tempat piringmu               |               dimana tempat piringmu               | 0 | 0 | 0 | 3 |  0.00   |\n",
            "|                  menulis di buku                   |                  menulis di buku                   | 0 | 0 | 0 | 3 |  0.00   |\n",
            "|    arjun marah karena tidak dibolehkan berenang    |    arjun marah karena tidak dibolehkan berenang    | 0 | 0 | 0 | 6 |  0.00   |\n",
            "|              kita semua memiliki akal              |              kita semua memiliki akal              | 0 | 0 | 0 | 4 |  0.00   |\n",
            "|                pensilku sudah patah                |                pensilku sudah patah                | 0 | 0 | 0 | 3 |  0.00   |\n",
            "|             jangan tinggalkan tempatmu             |             jangan tinggalkan tempatmu             | 0 | 0 | 0 | 3 |  0.00   |\n",
            "|                   besok hari apa                   |                   besok hari apa                   | 0 | 0 | 0 | 3 |  0.00   |\n",
            "| perasaanku tenang karena telah mengetahui kabarnya | perasaanku tenang karena telah mengetahui kabarnya | 0 | 0 | 0 | 6 |  0.00   |\n",
            "|         saya ingin melihatnya membuat kue          |         saya ingin melihatnya membuat kue          | 0 | 0 | 0 | 5 |  0.00   |\n",
            "|                pakai saja pensilku                 |                pakai saja pensilku                 | 0 | 0 | 0 | 3 |  0.00   |\n",
            "|              tolong buatkan air panas              |              tolong buatkan air panas              | 0 | 0 | 0 | 4 |  0.00   |\n",
            "|                  menulis di buku                   |                  menulis di buku                   | 0 | 0 | 0 | 3 |  0.00   |\n",
            "|           kamu pergi ambil air di sumur            |           kamu pergi ambil air di sumur            | 0 | 0 | 0 | 6 |  0.00   |\n",
            "|          wika berdebat dengan saudaranya           |          wika berdebat dengan saudaranya           | 0 | 0 | 0 | 4 |  0.00   |\n",
            "|                 tumben dia bicara                  |                 tumben dia bicara                  | 0 | 0 | 0 | 3 |  0.00   |\n",
            "|               warna sarung itu bagus               |               warna sarung itu bagus               | 0 | 0 | 0 | 4 |  0.00   |\n",
            "| perasaanku tenang karena telah mengetahui kabarnya | perasaanku tenang karena telah mengetahui kabarnya | 0 | 0 | 0 | 6 |  0.00   |\n",
            "|              tolong buatkan air panas              |              tolong buatkan air panas              | 0 | 0 | 0 | 4 |  0.00   |\n",
            "|               dimana tempat piringmu               |               dimana tempat piringmu               | 0 | 0 | 0 | 3 |  0.00   |\n",
            "|      saya membelikan istri saya sutera mahal       |      saya membelikan istri saya sutera mahal       | 0 | 0 | 0 | 6 |  0.00   |\n",
            "|             jangan tinggalkan tempatmu             |             jangan tinggalkan tempatmu             | 0 | 0 | 0 | 3 |  0.00   |\n",
            "|                 tumben dia bicara                  |                 tumben dia bicara                  | 0 | 0 | 0 | 3 |  0.00   |\n",
            "|               kamu tidak suka jalan                |               kamu tidak suka jalan                | 0 | 0 | 0 | 4 |  0.00   |\n",
            "|                pensilku sudah patah                |                pensilku sudah patah                | 0 | 0 | 0 | 3 |  0.00   |\n",
            "|            kamu mau pergi bersama wika             |            kamu mau pergi bersama wika             | 0 | 0 | 0 | 5 |  0.00   |\n",
            "|                   besok hari apa                   |                   besok hari apa                   | 0 | 0 | 0 | 3 |  0.00   |\n",
            "|               kamu tidak suka jalan                |               kamu tidak suka jalan                | 0 | 0 | 0 | 4 |  0.00   |\n",
            "|                pensilku sudah patah                |                pensilku sudah patah                | 0 | 0 | 0 | 3 |  0.00   |\n",
            "|       saya takut pergi ke kebun seorang diri       |       saya takut pergi ke kebun seorang diri       | 0 | 0 | 0 | 7 |  0.00   |\n",
            "|               berapa harga buku itu                |               berapa harga buku itu                | 0 | 0 | 0 | 4 |  0.00   |\n",
            "|    ingat cuci wajannya jika telah kamu gunakan     |    ingat cuci wajannya jika telah kamu gunakan     | 0 | 0 | 0 | 7 |  0.00   |\n",
            "|         jangan mengambil milik orang lain          |         jangan mengambil milik orang lain          | 0 | 0 | 0 | 5 |  0.00   |\n",
            "|                kulitmu putih sekali                |                kulitmu putih sekali                | 0 | 0 | 0 | 3 |  0.00   |\n",
            "|                  nama saya winda                   |                  nama saya winda                   | 0 | 0 | 0 | 3 |  0.00   |\n",
            "|               ayamku sudah bertelur                |               ayamku sudah bertelur                | 0 | 0 | 0 | 3 |  0.00   |\n",
            "|            belikan saya sayur dan ikan             |            belikan saya sayur dan ikan             | 0 | 0 | 0 | 5 |  0.00   |\n",
            "|                  menulis di buku                   |                  menulis di buku                   | 0 | 0 | 0 | 3 |  0.00   |\n",
            "|                  nama saya winda                   |                  nama saya winda                   | 0 | 0 | 0 | 3 |  0.00   |\n",
            "|             apakah kamu memasak sayur              |             apakah kamu memasak sayur              | 0 | 0 | 0 | 4 |  0.00   |\n",
            "|             sandalku putus karena kamu             |             sandalku putus karena kamu             | 0 | 0 | 0 | 4 |  0.00   |\n",
            "|              jangan lupa makan malam               |              jangan lupa makan malam               | 0 | 0 | 0 | 4 |  0.00   |\n",
            "|              tolong buatkan air panas              |              tolong buatkan air panas              | 0 | 0 | 0 | 4 |  0.00   |\n",
            "|           kamu pergi ambil air di sumur            |           kamu pergi ambil air di sumur            | 0 | 0 | 0 | 6 |  0.00   |\n",
            "|              berikan saya baskom itu               |              berikan saya baskom itu               | 0 | 0 | 0 | 4 |  0.00   |\n",
            "|          wika berdebat dengan saudaranya           |          wika berdebat dengan saudaranya           | 0 | 0 | 0 | 4 |  0.00   |\n",
            "| perasaanku tenang karena telah mengetahui kabarnya | perasaanku tenang karena telah mengetahui kabarnya | 0 | 0 | 0 | 6 |  0.00   |\n",
            "|             jangan tinggalkan tempatmu             |             jangan tinggalkan tempatmu             | 0 | 0 | 0 | 3 |  0.00   |\n",
            "|           apakah saya boleh beli pisang            |           apakah saya boleh beli pisang            | 0 | 0 | 0 | 5 |  0.00   |\n",
            "|           kamu pergi ambil air di sumur            |           kamu pergi ambil air di sumur            | 0 | 0 | 0 | 6 |  0.00   |\n",
            "|    ingat cuci wajannya jika telah kamu gunakan     |    ingat cuci wajannya jika telah kamu gunakan     | 0 | 0 | 0 | 7 |  0.00   |\n",
            "|                  menulis di buku                   |                  menulis di buku                   | 0 | 0 | 0 | 3 |  0.00   |\n",
            "|                pakai saja pensilku                 |                pakai saja pensilku                 | 0 | 0 | 0 | 3 |  0.00   |\n",
            "|       saya takut pergi ke kebun seorang diri       |       saya takut pergi ke kebun seorang diri       | 0 | 0 | 0 | 7 |  0.00   |\n",
            "|    sekarang banyak yang menggunakan bedak hitam    |    sekarang banyak yang menggunakan bedak hitam    | 0 | 0 | 0 | 6 |  0.00   |\n",
            "|         saya ingin melihatnya membuat kue          |         saya ingin melihatnya membuat kue          | 0 | 0 | 0 | 5 |  0.00   |\n",
            "|                 saya tidur duluan                  |                 saya tidur duluan                  | 0 | 0 | 0 | 3 |  0.00   |\n",
            "|            kamu mau pergi bersama wika             |            kamu mau pergi bersama wika             | 0 | 0 | 0 | 5 |  0.00   |\n",
            "|         banyaknya barangmu yang berserakan         |         banyaknya barangmu yang berserakan         | 0 | 0 | 0 | 4 |  0.00   |\n",
            "|                kulitmu putih sekali                |                kulitmu putih sekali                | 0 | 0 | 0 | 3 |  0.00   |\n",
            "|            ambilkan saya baki di dapur             |            ambilkan saya baki di dapur             | 0 | 0 | 0 | 5 |  0.00   |\n",
            "|          semoga kita tidak terkena celaka          |          semoga kita tidak terkena celaka          | 0 | 0 | 0 | 5 |  0.00   |\n",
            "|        mertuaku yang memberikan piring itu         |        mertuaku yang memberikan piring itu         | 0 | 0 | 0 | 5 |  0.00   |\n",
            "|             apakah kamu memasak sayur              |             apakah kamu memasak sayur              | 0 | 0 | 0 | 4 |  0.00   |\n",
            "|               air di bak sudah penuh               |               air di bak sudah penuh               | 0 | 0 | 0 | 5 |  0.00   |\n",
            "|    ingat cuci wajannya jika telah kamu gunakan     |    ingat cuci wajannya jika telah kamu gunakan     | 0 | 0 | 0 | 7 |  0.00   |\n",
            "|       saya takut pergi ke kebun seorang diri       |       saya takut pergi ke kebun seorang diri       | 0 | 0 | 0 | 7 |  0.00   |\n",
            "|                pensilku sudah patah                |                pensilku sudah patah                | 0 | 0 | 0 | 3 |  0.00   |\n",
            "|                  nama saya winda                   |                  nama saya winda                   | 0 | 0 | 0 | 3 |  0.00   |\n",
            "|      saya membelikan istri saya sutera mahal       |      saya membelikan istri saya sutera mahal       | 0 | 0 | 0 | 6 |  0.00   |\n",
            "|                pensilku sudah patah                |                pensilku sudah patah                | 0 | 0 | 0 | 3 |  0.00   |\n",
            "|    ingat cuci wajannya jika telah kamu gunakan     |    ingat cuci wajannya jika telah kamu gunakan     | 0 | 0 | 0 | 7 |  0.00   |\n",
            "|                   besok hari apa                   |                   besok hari apa                   | 0 | 0 | 0 | 3 |  0.00   |\n",
            "|    sekarang banyak yang menggunakan bedak hitam    |    sekarang banyak yang menggunakan bedak hitam    | 0 | 0 | 0 | 6 |  0.00   |\n",
            "|                  menulis di buku                   |                  menulis di buku                   | 0 | 0 | 0 | 3 |  0.00   |\n",
            "|              jangan lupa makan malam               |              jangan lupa makan malam               | 0 | 0 | 0 | 4 |  0.00   |\n",
            "|          semoga kita tidak terkena celaka          |          semoga kita tidak terkena celaka          | 0 | 0 | 0 | 5 |  0.00   |\n",
            "|               berikan aku dua kursi                |               berikan aku dua kursi                | 0 | 0 | 0 | 4 |  0.00   |\n",
            "|               warna sarung itu bagus               |               warna sarung itu bagus               | 0 | 0 | 0 | 4 |  0.00   |\n",
            "|              jangan lupa makan malam               |              jangan lupa makan malam               | 0 | 0 | 0 | 4 |  0.00   |\n",
            "|            ambilkan saya baki di dapur             |            ambilkan saya baki di dapur             | 0 | 0 | 0 | 5 |  0.00   |\n",
            "|           apakah saya boleh beli pisang            |           apakah saya boleh beli pisang            | 0 | 0 | 0 | 5 |  0.00   |\n",
            "|        kemarin saya beli celana di makassar        |        kemarin saya beli celana di makassar        | 0 | 0 | 0 | 6 |  0.00   |\n",
            "|               kamu punya lemari baru               |               kamu punya lemari baru               | 0 | 0 | 0 | 4 |  0.00   |\n",
            "|           kamu pergi ambil air di sumur            |           kamu pergi ambil air di sumur            | 0 | 0 | 0 | 6 |  0.00   |\n",
            "|             kita pergi jalan kaki saja             |             kita pergi jalan kaki saja             | 0 | 0 | 0 | 5 |  0.00   |\n",
            "|               berikan aku dua kursi                |               berikan aku dua kursi                | 0 | 0 | 0 | 4 |  0.00   |\n",
            "|    ingat cuci wajannya jika telah kamu gunakan     |    ingat cuci wajannya jika telah kamu gunakan     | 0 | 0 | 0 | 7 |  0.00   |\n",
            "|         saya ingin melihatnya membuat kue          |         saya ingin melihatnya membuat kue          | 0 | 0 | 0 | 5 |  0.00   |\n",
            "|                 tumben dia bicara                  |                 tumben dia bicara                  | 0 | 0 | 0 | 3 |  0.00   |\n",
            "+----------------------------------------------------+----------------------------------------------------+---+---+---+---+---------+\n"
          ]
        }
      ]
    },
    {
      "cell_type": "code",
      "metadata": {
        "colab": {
          "base_uri": "https://localhost:8080/"
        },
        "id": "511fd119",
        "outputId": "c69787a3-7b17-487a-836e-a2ae47a18b08"
      },
      "source": [
        "import jiwer\n",
        "\n",
        "def wer(reference, hypothesis):\n",
        "    # Calculate the Word Error Rate between a reference and a hypothesis\n",
        "    # Use jiwer.process_words to get the error counts\n",
        "    measures = jiwer.process_words(reference, hypothesis)\n",
        "\n",
        "    # Calculate WER using the formula: (S + D + I) / N\n",
        "    # N is the number of words in the reference\n",
        "    ref_words = reference.split()\n",
        "    n = len(ref_words)\n",
        "\n",
        "    # Handle the case where the reference is empty to avoid division by zero\n",
        "    if n == 0:\n",
        "        # If hypothesis is also empty, WER is 0, otherwise infinity\n",
        "        return 0.0 if len(hypothesis.split()) == 0 else float('inf')\n",
        "\n",
        "    # Access the error counts from the WordOutput object\n",
        "    s = measures.substitutions\n",
        "    d = measures.deletions\n",
        "    i = measures.insertions\n",
        "\n",
        "    wer_score = (s + d + i) / n\n",
        "\n",
        "    return wer_score\n",
        "\n",
        "def calculate_average_wer(model, tokenizer, sources, raw_dataset):\n",
        "    # Calculate the average WER for a set of source and target sentences\n",
        "    total_wer = 0\n",
        "    num_sentences = len(sources)\n",
        "\n",
        "    for i, source in enumerate(sources):\n",
        "        # Translate the source text\n",
        "        source_reshaped = source.reshape((1, -1))\n",
        "        translation = predict_seq(model, tar_tokenizer, source_reshaped)\n",
        "\n",
        "        # Get the raw target sentence\n",
        "        raw_target = raw_dataset[i][idx_tar]\n",
        "\n",
        "        # Calculate WER for the current sentence pair\n",
        "        sentence_wer = wer(raw_target, translation)\n",
        "\n",
        "        total_wer += sentence_wer\n",
        "\n",
        "    # Calculate the average WER\n",
        "    average_wer = total_wer / num_sentences\n",
        "\n",
        "    return average_wer\n",
        "\n",
        "# Calculate WER on the training set\n",
        "average_wer_train = calculate_average_wer(model, tar_tokenizer, trainX, train)\n",
        "print(f\"Average WER on Training Set: {average_wer_train}\")\n",
        "\n",
        "# Calculate WER on the test set\n",
        "average_wer_test = calculate_average_wer(model, tar_tokenizer, testX, test)\n",
        "print(f\"Average WER on Test Set: {average_wer_test}\")"
      ],
      "execution_count": null,
      "outputs": [
        {
          "output_type": "stream",
          "name": "stdout",
          "text": [
            "Average WER on Training Set: 0.0\n",
            "Average WER on Test Set: 0.0\n"
          ]
        }
      ]
    },
    {
      "cell_type": "code",
      "metadata": {
        "colab": {
          "base_uri": "https://localhost:8080/"
        },
        "id": "d33acf68",
        "outputId": "ed808eb0-e4e6-4184-e146-4c14d6b8e581"
      },
      "source": [
        "import pandas as pd\n",
        "\n",
        "# Create DataFrames from the results\n",
        "bleu_df = pd.DataFrame(bleu_results, columns=headers_bleu)\n",
        "wer_df = pd.DataFrame(wer_results, columns=headers_wer)\n",
        "\n",
        "# Define the path to save the Excel file\n",
        "excel_file_path = '/content/drive/MyDrive/databaru/evaluasi_terjemahan.xlsx'\n",
        "\n",
        "# Save the DataFrames to an Excel file with different sheets\n",
        "with pd.ExcelWriter(excel_file_path) as writer:\n",
        "    bleu_df.to_excel(writer, sheet_name='Evaluasi BLEU', index=False)\n",
        "    wer_df.to_excel(writer, sheet_name='Evaluasi WER', index=False)\n",
        "\n",
        "print(f\"Tabel evaluasi berhasil disimpan ke: {excel_file_path}\")"
      ],
      "execution_count": null,
      "outputs": [
        {
          "output_type": "stream",
          "name": "stdout",
          "text": [
            "Tabel evaluasi berhasil disimpan ke: /content/drive/MyDrive/databaru/evaluasi_terjemahan.xlsx\n"
          ]
        }
      ]
    },
    {
      "cell_type": "code",
      "source": [
        "model.save('/content/drive/MyDrive/databaru/terjemahmodel.h5')"
      ],
      "metadata": {
        "id": "IEcQF2jtI5Lp",
        "colab": {
          "base_uri": "https://localhost:8080/"
        },
        "outputId": "22c42acf-5f4c-4ca2-ea9f-25340e9e82ec"
      },
      "execution_count": null,
      "outputs": [
        {
          "output_type": "stream",
          "name": "stderr",
          "text": [
            "WARNING:absl:You are saving your model as an HDF5 file via `model.save()` or `keras.saving.save_model(model)`. This file format is considered legacy. We recommend using instead the native Keras format, e.g. `model.save('my_model.keras')` or `keras.saving.save_model(model, 'my_model.keras')`. \n"
          ]
        }
      ]
    },
    {
      "cell_type": "code",
      "source": [
        "model.save('/content/drive/MyDrive/databaru/terjemahan_model.keras')"
      ],
      "metadata": {
        "id": "U1Pvpocq0er5"
      },
      "execution_count": null,
      "outputs": []
    },
    {
      "cell_type": "code",
      "metadata": {
        "id": "5d30c4bc",
        "colab": {
          "base_uri": "https://localhost:8080/"
        },
        "outputId": "7fd63d66-54b3-48fd-923b-e78fdcb2ecb2"
      },
      "source": [
        "import pickle\n",
        "\n",
        "# Save the source tokenizer\n",
        "with open('/content/drive/MyDrive/databaru/translation_source_tokenizer.pkl', 'wb') as f:\n",
        "    pickle.dump(src_tokenizer, f)\n",
        "\n",
        "# Save the target tokenizer\n",
        "with open('/content/drive/MyDrive/databaru/translation_target_tokenizer.pkl', 'wb') as f:\n",
        "    pickle.dump(tar_tokenizer, f)\n",
        "\n",
        "print(\"Tokenizers saved successfully!\")"
      ],
      "execution_count": null,
      "outputs": [
        {
          "output_type": "stream",
          "name": "stdout",
          "text": [
            "Tokenizers saved successfully!\n"
          ]
        }
      ]
    },
    {
      "cell_type": "markdown",
      "metadata": {
        "id": "6ac8654a"
      },
      "source": [
        "Now that the tokenizers are saved, here is the code to load them:"
      ]
    },
    {
      "cell_type": "code",
      "metadata": {
        "id": "11d45485",
        "colab": {
          "base_uri": "https://localhost:8080/"
        },
        "outputId": "b3a4d515-953f-4d74-9c6e-427b08fc0956"
      },
      "source": [
        "import pickle\n",
        "\n",
        "# Load the source tokenizer\n",
        "with open('/content/drive/MyDrive/databaru/translation_source_tokenizer.pkl', 'rb') as f:\n",
        "    translation_source_tokenizer = pickle.load(f)\n",
        "\n",
        "# Load the target tokenizer\n",
        "with open('/content/drive/MyDrive/databaru/translation_target_tokenizer.pkl', 'rb') as f:\n",
        "    translation_target_tokenizer = pickle.load(f)\n",
        "\n",
        "print(\"Tokenizers loaded successfully!\")"
      ],
      "execution_count": null,
      "outputs": [
        {
          "output_type": "stream",
          "name": "stdout",
          "text": [
            "Tokenizers loaded successfully!\n"
          ]
        }
      ]
    },
    {
      "cell_type": "code",
      "metadata": {
        "id": "ed41c20d",
        "colab": {
          "base_uri": "https://localhost:8080/"
        },
        "outputId": "0e38f20b-9486-4dd0-f979-82960152bdbb"
      },
      "source": [
        "import os\n",
        "\n",
        "# Create the directory if it doesn't exist\n",
        "directory = '/content/drive/MyDrive/databaru/'\n",
        "if not os.path.exists(directory):\n",
        "    os.makedirs(directory)\n",
        "    print(f\"Directory '{directory}' created.\")\n",
        "else:\n",
        "    print(f\"Directory '{directory}' already exists.\")"
      ],
      "execution_count": null,
      "outputs": [
        {
          "output_type": "stream",
          "name": "stdout",
          "text": [
            "Directory '/content/drive/MyDrive/databaru/' already exists.\n"
          ]
        }
      ]
    }
  ]
}